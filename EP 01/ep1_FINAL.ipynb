{
 "cells": [
  {
   "cell_type": "markdown",
   "metadata": {
    "id": "vkyIYWOPZZ0o"
   },
   "source": [
    "# **Tarefa 1 - Decomposição LU para Matrizes Tridiagonais - MAP3121**\n",
    "\n",
    "#### Data de entrega: 01/05/2022\n",
    "\n",
    "*   Rodrigo Gebara Reis - NUSP: 11819880\n",
    "*   Victor Rocha da Silva - NUSP: 11223782\n"
   ]
  },
  {
   "cell_type": "markdown",
   "metadata": {
    "id": "-wh44EBPZZ0q"
   },
   "source": [
    "### **Decomposição LU**:\n",
    "\n",
    "Supondo que $A$ é uma matriz triangularizável pelo Método de Eliminação de Gauss sem trocas de linhas, podemos escrever: $$A = LU,$$ onde $L$ é uma matriz triangular inferior, e $U$ é uma matriz triangular superior. Então: \n",
    "\n",
    "$$a_{ij} = \\sum_{k=1}^n l_{ik}u_{kj}$$\n",
    "\n",
    "Como $L$ é triangular inferior, $l_{ik} = 0$ se $k > i$; e como $U$ é triangular superior, $u_{kj} = 0$ se $k > j$. Assim, podemos escrever:\n",
    "\n",
    "$$a_{ij} = \\sum_{k=1}^{\\min\\{i,j\\}} l_{ik}u_{kj}\\,\\,\\,\\,\\,\\,\\,\\,\\,(1)$$"
   ]
  },
  {
   "cell_type": "markdown",
   "metadata": {
    "id": "i_UUCHpBZZ0q"
   },
   "source": [
    "\n",
    "Para aplicar o Método de Eliminação de Gauss no sistema $Ax = b$, supondo-se que $A$ é triangularizável sem troca de linhas, podemos aplicar o seguinte algoritmo:\n",
    "\n",
    "**para** $j = 1,...\\,, n$:<br>\n",
    "&nbsp;&nbsp;&nbsp;&nbsp;&nbsp;&nbsp;**para** $i = j+1,...\\,, n$:<br>\n",
    "&nbsp;&nbsp;&nbsp;&nbsp;&nbsp;&nbsp;&nbsp;&nbsp;&nbsp;&nbsp;&nbsp;&nbsp;$l_i = l_i - \\frac{a_{ij}}{a_{jj}}\\cdot l_j$<br>\n",
    "**fim**\n",
    "\n",
    "onde $l_k$ representa a linha $k$ da matriz expandida $[A | b]$.\n",
    "\n",
    "Posteriormente, encontra-se o vetor $x$ de baixo para cima, resolvendo as equações."
   ]
  },
  {
   "cell_type": "code",
   "execution_count": 1,
   "metadata": {
    "id": "De_B4JiwZZ0r"
   },
   "outputs": [],
   "source": [
    "import numpy as np\n",
    "import time\n",
    "\n",
    "# Entradas: a matriz extendida A|b, tal que A array n x n, b array 1 x n (Ax = b)\n",
    "def gauss(a):\n",
    "    n = a.shape[0]\n",
    "\n",
    "    a = np.array(a, dtype = float)\n",
    "    A = np.copy(a[:,:-1])\n",
    "    b = np.copy(a[:,n]).reshape((n))\n",
    "\n",
    "    start = time.time()\n",
    "\n",
    "    # Eliminação (Escalonamento)\n",
    "    for i in range(n):\n",
    "        for j in range(i+1, n):\n",
    "            a[j,:] = a[j,:] - a[j, i]/a[i, i]*a[i,:]\n",
    "\n",
    "    # Solução\n",
    "    x = np.zeros(n)\n",
    "    x[n-1] = a[n-1, n]/a[n-1, n-1]\n",
    "    for i in range(n-2,-1,-1):\n",
    "        x[i] = (a[i, n] - np.dot(a[i, i+1:n], x[i+1:n]))/a[i, i]\n",
    "\n",
    "    end = time.time()\n",
    "\n",
    "    print(\"Solucao: \")\n",
    "    print(x)\n",
    "\n",
    "    print(\"Residuo: \")\n",
    "    print(np.max(np.abs(A@x - b)))\n",
    "\n",
    "    print(\"Tempo: \")\n",
    "    print(end - start)\n",
    "\n",
    "    return x"
   ]
  },
  {
   "cell_type": "code",
   "execution_count": 2,
   "metadata": {
    "id": "31t9DEFIThI4",
    "outputId": "667149cc-505f-4a02-dfe9-84f06e795cb9"
   },
   "outputs": [
    {
     "name": "stdout",
     "output_type": "stream",
     "text": [
      "Solucao: \n",
      "[-1.  1. -1.]\n",
      "Residuo: \n",
      "7.771561172376096e-16\n",
      "Tempo: \n",
      "0.0\n"
     ]
    },
    {
     "data": {
      "text/plain": [
       "array([-1.,  1., -1.])"
      ]
     },
     "execution_count": 2,
     "metadata": {},
     "output_type": "execute_result"
    }
   ],
   "source": [
    "# Teste:\n",
    "a = np.array([[3, 2, -1, 0], [1, 3, 1, 1], [2, 2, -2, 2]], dtype = float) #Matriz expandida [A|b]\n",
    "\n",
    "gauss(a)"
   ]
  },
  {
   "cell_type": "markdown",
   "metadata": {
    "id": "t_bHWzeIZZ0r"
   },
   "source": [
    "Pode-se provar, também, que as matrizes $L$ e $U$, triangulares inferior e superior, tais que $A = LU$, podem ser obtidas da seguinte forma:\n",
    "- $U$ é a matriz triangular superior obtida pelo Método de Eliminação de Gauss;\n",
    "- $L$ é a matriz triangular inferior que contém os multiplicadores $m_{ij} = \\frac{a_{ij}}{a_{jj}}$, utilizados na Eliminação de Gauss, na posição $ij$. Além disso, possui todos os elementos da diagonal principal iguais a $1$."
   ]
  },
  {
   "cell_type": "markdown",
   "metadata": {
    "id": "COzoFWbGZZ0s"
   },
   "source": [
    "Utilizando o fato de que $l_{ii} = 1$, $l{i, i+1} = 0$, e $u_{i+1, i} = 0$, podemos encontrar $L$ e $U$ de outra maneira. Observe:\n",
    "\n",
    "- Sabemos que $$a_{ii} = \\sum_{k=1}^i l_{ik}u_{ki}\\,\\,\\,\\,\\,\\,\\,\\,\\,(2)$$ para $i \\in [1, n]$, de acordo com a expressão $(1)$. Assim, $a_{11} = l_{11}u_{11} \\Rightarrow u_{11}=a_{11}$\n",
    "\n",
    "- Se $i < j$, $$a_{ij} = \\sum_{k=1}^i l_{ik}u_{kj}\\,\\,\\,\\,\\,\\,\\,\\,\\,(3)$$ Se $i = 1$: $a_{1j} = l_{11}u_{1j} \\Rightarrow u_{1j}=a_{1j}$, para $j \\in [2, n]$\n",
    "\n",
    "Com isso, já definimos toda a primeira linha de $U$.\n",
    "\n",
    "- Se $j < i$, $$a_{ij} = \\sum_{k=1}^j l_{ik}u_{kj}\\,\\,\\,\\,\\,\\,\\,\\,\\,(4)$$ Para $j = 1$: $a_{i1} = l_{i1}u_{11} \\Rightarrow l_{i1} = \\frac{a_{i1}}{u_{11}} = \\frac{a_{i1}}{a_{11}}$, para $i\\in [2, n]$\n",
    "\n",
    "Como sabemos que $l_{11} = 1$ por hipótese, temos definida toda a primeira coluna de $L$.\n",
    "\n",
    "- Substituindo $i = 2$ em $(2)$, temos: $a_{22} = \\sum_{k=1}^2 l_{2k}u_{k2} = l_{21}u_{12} + l_{11}u_{22} \\Rightarrow u_{22} = a_{22} - l_{21}u_{12}$\n",
    "\n",
    "- Fazendo $i = 2$ em $(3)$: $a_{2j} = \\sum_{k=1}^2 l_{2k}u_{kj} = l_{21}u_{1j} + l_{22}u_{2j} \\Rightarrow u_{2j} = a_{2j} - l_{21}u_{1j}$, $j\\in[3, n]$\n",
    "\n",
    "Sabe-se que $u_{21} = 0$, então encontramos toda a segunda linha de $U$.\n",
    "\n",
    "- Agora fazemos $j = 2$ em $(4)$: $a_{i2} = \\sum_{k=1}^2 l_{ik}u_{k2} = l_{i1}u_{12} + l_{i2}u_{22} \\Rightarrow l_{i2} = (a_{i2} - l_{i1}u_{12})\\cdot\\frac{1}{u_{22}}$, $i\\in[3, n]$\n",
    "\n",
    "Dessa forma, já determinados $l_{12}$, $l_{22}$, $u_{22}$, $l_{i1}$ e $u_{12}$, temos a segunda coluna de $L$.\n"
   ]
  },
  {
   "cell_type": "markdown",
   "metadata": {
    "id": "l4Ma6qCBgnGD"
   },
   "source": [
    "Com tudo isso, podemos chegar ao algoritmo proposto:\n",
    "- Utilizando $(2)$: $a_{kk} = \\sum_{s=1}^k l_{ks}u_{sk}\\Rightarrow u_{kk} = \\frac{1}{l_{kk}}(a_{kk}-\\sum_{s=1}^{k-1} l_{ks}u_{sk}) =a_{kk}-\\sum_{s=1}^{k-1} l_{ks}u_{sk}$\n",
    "\n",
    "- De $(3)$: $a_{kj} = \\sum_{s=1}^k l_{ks}u_{sj}\\Rightarrow u_{kj} = \\frac{1}{l_{kk}}(a_{kj}-\\sum_{s=1}^{k-1} l_{ks}u_{sj}) =a_{kj}-\\sum_{s=1}^{k-1} l_{ks}u_{sj}$\n",
    "\n",
    "- A partir de $(4)$: $a_{ik} = \\sum_{s=1}^k l_{is}u_{sk}\\Rightarrow l_{ik} = \\frac{1}{u_{kk}}(a_{ik}-\\sum_{s=1}^{k-1} l_{is}u_{sk})$"
   ]
  },
  {
   "cell_type": "markdown",
   "metadata": {
    "id": "rBbvQTRcgnGE"
   },
   "source": [
    "Reunindo as proposições, finalmente temos:"
   ]
  },
  {
   "cell_type": "markdown",
   "metadata": {
    "id": "mVb-sYrAgnGE"
   },
   "source": [
    "\n",
    "**para** $i = 1,...\\,,n$:<br>\n",
    "&nbsp;&nbsp;&nbsp;&nbsp;&nbsp;&nbsp; $u_{ij} = a_{ij} - \\sum_{k=1}^{i-1} l_{ik}u_{kj},\\,j=i,...\\,,n$<br>\n",
    "&nbsp;&nbsp;&nbsp;&nbsp;&nbsp;&nbsp; $l_{ji} = \\left(a_{ji}-\\sum_{k=1}^{i-1} l_{jk}u_{ki}\\right)/u_{ii},\\,j=i+1,...\\,,n$<br>\n",
    "**fim**"
   ]
  },
  {
   "cell_type": "code",
   "execution_count": 3,
   "metadata": {
    "id": "8yM4QKBBZZ0s"
   },
   "outputs": [],
   "source": [
    "def decomposicaoLU(A):\n",
    "    n = A.shape[0]\n",
    "    L, U = np.zeros((n, n)), np.zeros((n, n))\n",
    "\n",
    "    for i in range(n):\n",
    "        U[i, i:n] = A[i, i:n] - L[i, :i]@U[:i, i:n]\n",
    "        L[i+1:n, i] = (A[i+1:n, i] - L[i+1:n,:i]@U[:i, i])/U[i,i]\n",
    "\n",
    "    np.fill_diagonal(L,1) # Completa a diagonal de L com 1\n",
    "\n",
    "    return L, U"
   ]
  },
  {
   "cell_type": "markdown",
   "metadata": {
    "id": "pSfNviJOClc9"
   },
   "source": [
    "Testando a funcionalidade do algoritmo acima para uma matriz $A$ genérica:\n",
    "\n",
    "$ A = \\begin{bmatrix}\n",
    "3 & 2 & 4 \\\\\n",
    "1 & 1 & 2 \\\\\n",
    "4 & 3 & -2 \\\\\n",
    "\\end{bmatrix}  ⇒ \\, L = \\begin{bmatrix}\n",
    "1 & 0 & 0 \\\\\n",
    "\\frac{1}{3} & 1 & 0 \\\\\n",
    "\\frac{4}{3} & 1 & 1 \n",
    "\\end{bmatrix};  \\,\\, U = \\begin{bmatrix}\n",
    "3 & 2 & 4 \\\\\n",
    "0 & \\frac{1}{3} & \\frac{2}{3} \\\\\n",
    "0 & 0 & -8 \n",
    "\\end{bmatrix}   $\n"
   ]
  },
  {
   "cell_type": "code",
   "execution_count": 4,
   "metadata": {
    "colab": {
     "base_uri": "https://localhost:8080/"
    },
    "id": "KGMflGCmDZpz",
    "outputId": "e80978a7-a2a6-4152-cdc4-c23f9b2a4c75"
   },
   "outputs": [
    {
     "name": "stdout",
     "output_type": "stream",
     "text": [
      "\n",
      "L = \n",
      "[[1.         0.         0.        ]\n",
      " [0.33333333 1.         0.        ]\n",
      " [1.33333333 1.         1.        ]]\n",
      "\n",
      "U = \n",
      "[[ 3.          2.          4.        ]\n",
      " [ 0.          0.33333333  0.66666667]\n",
      " [ 0.          0.         -8.        ]]\n"
     ]
    }
   ],
   "source": [
    "A = np.array([[3,2,4],[1,1,2],[4,3,-2]])\n",
    "L, U = decomposicaoLU(A)\n",
    "\n",
    "print('\\nL = ')\n",
    "print(L)\n",
    "print('\\nU = ')\n",
    "print(U)"
   ]
  },
  {
   "cell_type": "code",
   "execution_count": 5,
   "metadata": {
    "colab": {
     "base_uri": "https://localhost:8080/"
    },
    "id": "Em3Ki9NUG_vk",
    "outputId": "aa1cbf02-9ecd-46dd-d4a8-50ef2bb401b6"
   },
   "outputs": [
    {
     "name": "stdout",
     "output_type": "stream",
     "text": [
      "A = \n",
      "[[ 3.  2.  4.]\n",
      " [ 1.  1.  2.]\n",
      " [ 4.  3. -2.]]\n"
     ]
    }
   ],
   "source": [
    "print('A = ')\n",
    "print(L@U)"
   ]
  },
  {
   "cell_type": "markdown",
   "metadata": {
    "id": "D3fc9mOCHnKn"
   },
   "source": [
    "Vemos que a implementação desse algoritmo permite obter de maneira muito mais simples a decomposição $LU$, sem que seja necessário calcular explicitamente pelo Método da Eliminação de Gauss as matrizes $L$ e $U$."
   ]
  },
  {
   "cell_type": "markdown",
   "metadata": {
    "id": "TEncGxD9H7Mx"
   },
   "source": [
    "----"
   ]
  },
  {
   "cell_type": "markdown",
   "metadata": {
    "id": "sOjPMlF7RJnc"
   },
   "source": [
    "### **Tarefa - Parte 1:** decomposição $LU$ de uma matriz tridiagonal $A \\, (n × n)$ :"
   ]
  },
  {
   "cell_type": "markdown",
   "metadata": {
    "id": "3LzuvsDoZZ0s"
   },
   "source": [
    "Para fazer um uso mais eficiente de memória, sabendo das características das matrizes $L$ e $U$, podemos armazená-las em uma única matriz.\n",
    "\n",
    "Ao realizar o processo da eliminação de Gauss, automaticamente encontramos a matriz $U$ e os termos da matriz $L$. Curiosamente, para zerar um termo de uma linha da matriz $A$, é necessário o cálculo de $m_{ij} = \\dfrac{a_{ij}}{a_{jj}}$, como apresentado no código da Eliminação de Gauss. Esses multiplicadores são justamente os termos de $L$. Assim, alteramos a matriz original de tal forma que, à medida que a eliminação de Gauss é realizada, a matriz $U$ é automaticamente gerada, e, nos termos zerados, armazenamos os multiplicadores.\n",
    "\n",
    "No final da execução, os termos da diagonal principal e da metade triangular superior serão os elementos da matriz $U$, e o restante (metade triangular inferior), da matriz $L$. Observe:"
   ]
  },
  {
   "cell_type": "code",
   "execution_count": 6,
   "metadata": {
    "id": "DwU-C9nFZZ0t"
   },
   "outputs": [],
   "source": [
    "def LU_completo(A):\n",
    "    \n",
    "    n = A.shape[0]\n",
    "\n",
    "    start = time.time()\n",
    "\n",
    "    LU = np.eye(n) # Inicia matriz identidade de ordem n\n",
    "\n",
    "    for i in range(n):\n",
    "        #Varre linhas superiores (Upper)\n",
    "        LU[i,i:] = A[i,i:]-LU[i,:i] @ LU[:i,i:]\n",
    "        #Varre colunas inferiores (Lower)\n",
    "        LU[(i+1):,i] = (A[(i+1):,i]- LU[(i+1):,:i] @ LU[:i,i]) / LU[i,i]\n",
    "\n",
    "    U = np.triu(LU)\n",
    "    L = np.tril(LU)\n",
    "    np.fill_diagonal(L, 1)\n",
    "    \n",
    "    end = time.time()\n",
    "    print(\"Tempo: \")\n",
    "    print(end - start)\n",
    "\n",
    "    print(\"L = \\n\", L, \"\\n U = \\n\", U, \"\\n LU = \\n\", LU)\n",
    "    return LU"
   ]
  },
  {
   "cell_type": "markdown",
   "metadata": {
    "id": "Ng9mA_VgThI-"
   },
   "source": [
    "Para a mesma matriz\n",
    "$ A = \\begin{bmatrix}\n",
    "3 & 2 & 4 \\\\\n",
    "1 & 1 & 2 \\\\\n",
    "4 & 3 & -2 \\\\\n",
    "\\end{bmatrix}$"
   ]
  },
  {
   "cell_type": "code",
   "execution_count": 7,
   "metadata": {
    "id": "cRZohqL6ThI-",
    "outputId": "d61cf98c-524f-408c-b48f-cce33b9bd374"
   },
   "outputs": [
    {
     "name": "stdout",
     "output_type": "stream",
     "text": [
      "Tempo: \n",
      "0.002979278564453125\n",
      "L = \n",
      " [[1.         0.         0.        ]\n",
      " [0.33333333 1.         0.        ]\n",
      " [1.33333333 1.         1.        ]] \n",
      " U = \n",
      " [[ 3.          2.          4.        ]\n",
      " [ 0.          0.33333333  0.66666667]\n",
      " [ 0.          0.         -8.        ]] \n",
      " LU = \n",
      " [[ 3.          2.          4.        ]\n",
      " [ 0.33333333  0.33333333  0.66666667]\n",
      " [ 1.33333333  1.         -8.        ]]\n"
     ]
    },
    {
     "data": {
      "text/plain": [
       "array([[ 3.        ,  2.        ,  4.        ],\n",
       "       [ 0.33333333,  0.33333333,  0.66666667],\n",
       "       [ 1.33333333,  1.        , -8.        ]])"
      ]
     },
     "execution_count": 7,
     "metadata": {},
     "output_type": "execute_result"
    }
   ],
   "source": [
    "A = np.array([[3,2,4],[1,1,2],[4,3,-2]])\n",
    "\n",
    "LU_completo(A)"
   ]
  },
  {
   "cell_type": "markdown",
   "metadata": {
    "id": "RCChNJ45ZZ0t"
   },
   "source": [
    "Depois de feita a decomposição $LU$, é muito mais simples e rápido resolver sistemas do tipo $Ax = b$. Como $A = LU$, temos:\n",
    "\n",
    "$$ LUx = b \\Leftrightarrow L (Ux) = b $$\n",
    "\n",
    "Podemos fazer uma mudança de variável, tal que $(Ux) = y$, que resulta em $Ly = b$.\n",
    "\n",
    "Ou seja, resolver $Ax = b$ equivale a resolver dois sistemas mais simples, um triangular inferior, e outro triangular superior:\n",
    "\n",
    "$$\\begin{cases}\n",
    "    Ly = b\\\\\n",
    "    Ux = y\n",
    "\\end{cases}$$"
   ]
  },
  {
   "cell_type": "markdown",
   "metadata": {
    "id": "2gq589HaIqVB"
   },
   "source": [
    "---------------"
   ]
  },
  {
   "cell_type": "markdown",
   "metadata": {
    "id": "7eRt3lWjZZ0u"
   },
   "source": [
    "### **Matrizes Tridiagonais**"
   ]
  },
  {
   "cell_type": "markdown",
   "metadata": {
    "id": "7wTVUnheZZ0u"
   },
   "source": [
    "Matrizes tridiagonais são aquelas que possuem elementos não nulos apenas na diagonal principal, e em uma acima e outra abaixo da principal, isto é:\n",
    "$\\begin{cases}\n",
    "    a_{ij} = 0,\\,\\textrm{ se } |i-j| > 1,\\\\\n",
    "    a_{ij} \\neq 0,\\,\\textrm{ caso contrário.}\n",
    "\\end{cases}$"
   ]
  },
  {
   "cell_type": "markdown",
   "metadata": {
    "id": "yIkx9DyAZZ0u"
   },
   "source": [
    "$ A = \\begin{bmatrix}\n",
    "b_1 & c_1 &  &  &  \\\\\n",
    "a_2 & b_2 & c_2 &  &  \\\\\n",
    " & \\ddots & \\ddots & \\ddots &  \\\\\n",
    " &  & a_{n-1} & b_{n-1} & c_{n-1} \\\\\n",
    " &  &  & a_n & b_n \n",
    "\\end{bmatrix}  $"
   ]
  },
  {
   "cell_type": "markdown",
   "metadata": {
    "id": "rfYv8ZMxZZ0u"
   },
   "source": [
    "Observando o formato da matriz tridiagonal, podemos guardar toda a informação contida nela em apenas três vetores:\n",
    "- $a = (0,a_2, a_3,...\\,, a_{n-1}, a_n)$\n",
    "- $b = (b_1, b_2, b_3,...\\,, b_{n-1}, b_n)$\n",
    "- $c = (c_1, c_2,...\\,, c_{n-1}, 0)$\n",
    "\n",
    "Podemos implementar um código para representar matrizes tridiagonais inteiras a partir dos vetores $a$, $b$ e $c$:"
   ]
  },
  {
   "cell_type": "code",
   "execution_count": 8,
   "metadata": {
    "id": "cwRVdyH3ThI_"
   },
   "outputs": [],
   "source": [
    "# Função auxiliar para estruturar matrizes tridiagonais (cíclicas ou não)\n",
    "\n",
    "def createMatrix(a, b, c):\n",
    "  n = a.shape[0]\n",
    "\n",
    "  A = np.zeros([n, n])\n",
    "  A[0, n-1] = a[0]\n",
    "  A[n-1, 0] = c[n-1]\n",
    "  A[n-1, n-1] = b[n-1]\n",
    "  for i in range(0, n-1):\n",
    "    A[i, i] = b[i]\n",
    "    A[i+1, i] = a[i+1]\n",
    "    A[i, i+1] = c[i]\n",
    "\n",
    "  return A"
   ]
  },
  {
   "cell_type": "markdown",
   "metadata": {
    "id": "zvc3LY-GThJA"
   },
   "source": [
    "\n",
    "Além disso, devido a esse formato específico, as matrizes $L$ e $U$, triangulares, tais que $A = LU$, também possuem características especiais.\n",
    "\n",
    "Na dedução da decomposição $LU$, encontra-se matrizes $M_i$ tais que $\\prod\\,M_iA = U$, com $U$ triangular superior. A multiplicação pelas matrizes $M_i$ tem o efeito de zerar os termos da coluna $i$ abaixo da diagonal principal de $A$. No entanto, no caso de uma matriz tridiagonal, os únicos elementos alterados, além dos zerados, é a própria diagonal principal: a diagonal imediatamente acima (vetor $c$) permanece inalterada. Observe, para o caso de $A_{3\\times 3}$:"
   ]
  },
  {
   "cell_type": "markdown",
   "metadata": {
    "id": "Csl0EBLTD-MD"
   },
   "source": [
    "$ \\begin{bmatrix}\n",
    "1 & 0 & 0 \\\\\n",
    "-\\frac{a_2}{b_1} & 1 & 0 \\\\\n",
    "-\\frac{0}{a_2} & 0 & 1 \n",
    "\\end{bmatrix}\\begin{bmatrix}\n",
    "b_1 & c_1 & 0 \\\\\n",
    "a_2 & b_2 & c_2 \\\\\n",
    "0 & a_3 & b_3 \n",
    "\\end{bmatrix} =\\begin{bmatrix}\n",
    "b_1 & c_1 & 0 \\\\\n",
    "0 & \\tilde{b_2} & c_2 \\\\\n",
    "0 & a_3 & b_3 \n",
    "\\end{bmatrix}\\\\ $"
   ]
  },
  {
   "cell_type": "markdown",
   "metadata": {
    "id": "4VZLKuuhThJA"
   },
   "source": [
    "\n",
    "$ \\Rightarrow \\begin{bmatrix}\n",
    "1 & 0 & 0 \\\\\n",
    "-m_{21} & 1 & 0 \\\\\n",
    "0 & 0 & 1 \n",
    "\\end{bmatrix}\\begin{bmatrix}\n",
    "b_1 & c_1 & 0 \\\\\n",
    "a_2 & b_2 & c_2 \\\\\n",
    "0 & a_3 & b_3 \n",
    "\\end{bmatrix} =\\begin{bmatrix}\n",
    "b_1 & c_1 & 0 \\\\\n",
    "0 & \\tilde{b_2} & c_2 \\\\\n",
    "0 & a_3 & b_3 \n",
    "\\end{bmatrix}\\\\ $"
   ]
  },
  {
   "cell_type": "markdown",
   "metadata": {
    "id": "vMHBub5_E1uW"
   },
   "source": [
    "Similarmente, para zerar $a_3$, faríamos:"
   ]
  },
  {
   "cell_type": "markdown",
   "metadata": {
    "id": "jxY2t5PEE7wB"
   },
   "source": [
    "\n",
    "$ \\begin{bmatrix}\n",
    "1 & 0 & 0 \\\\\n",
    "0 & 1 & 0 \\\\\n",
    "0 & -m_{32} & 1 \n",
    "\\end{bmatrix} \\begin{bmatrix}\n",
    "1 & 0 & 0 \\\\\n",
    "-m_{21} & 1 & 0 \\\\\n",
    "0 & 0 & 1 \n",
    "\\end{bmatrix}\\begin{bmatrix}\n",
    "b_1 & c_1 & 0 \\\\\n",
    "a_2 & b_2 & c_2 \\\\\n",
    "0 & a_3 & b_3 \n",
    "\\end{bmatrix} =\\begin{bmatrix}\n",
    "b_1 & c_1 & 0 \\\\\n",
    "0 & \\tilde{b_2} & c_2 \\\\\n",
    "0 & 0 & \\tilde{b_3} \n",
    "\\end{bmatrix}\\\\ $\n",
    " \n",
    "$ \\Rightarrow \\begin{bmatrix}\n",
    "1 & 0 & 0 \\\\\n",
    "-m_{21} & 1 & 0 \\\\\n",
    "0 & -m_{32} & 1 \n",
    "\\end{bmatrix}\\begin{bmatrix}\n",
    "b_1 & c_1 & 0 \\\\\n",
    "a_2 & b_2 & c_2 \\\\\n",
    "0 & a_3 & b_3 \n",
    "\\end{bmatrix} = \\begin{bmatrix}\n",
    "b_1 & c_1 & 0 \\\\\n",
    "0 & \\tilde{b_2} & c_2 \\\\\n",
    "0 & 0 & \\tilde{b_3}\\end{bmatrix}\\\\ $"
   ]
  },
  {
   "cell_type": "markdown",
   "metadata": {
    "id": "r1pXy7RgHR-B"
   },
   "source": [
    "Note, também, que podemos escrever $A = \\prod M_i^{-1}U$. Essas matrizes $M_i$, no entanto, têm uma propriedade interessante, decorrente do simples fato de que $M_iM_i^{-1} = I_n$: a inversa é idêntica à matriz original, trocando-se o sinal do termo $m_{k, k-1}$. Assim, teríamos, em um caso geral:"
   ]
  },
  {
   "cell_type": "markdown",
   "metadata": {
    "id": "kJZYA0uZF8Du"
   },
   "source": [
    "Assim, de modo geral, teríamos:\n",
    "\n",
    "$\\begin{bmatrix}\n",
    "b_1 & c_1 &  &  &  \\\\\n",
    "a_2 & b_2 & c_2 &  &  \\\\\n",
    " & \\ddots & \\ddots & \\ddots &  \\\\\n",
    " &  & a_{n-1} & b_{n-1} & c_{n-1} \\\\\n",
    " &  &  & a_n & b_n \n",
    "\\end{bmatrix} =\\begin{bmatrix}\n",
    "1 & 0 & &  &  \\\\\n",
    "m_{21} & 1 & &  & \\\\\n",
    " & \\ddots & \\ddots & & \\\\\n",
    " &  & m_{n-1,n-2} & 1 & \\\\\n",
    " &  &  & m_{n,n-1} & 1 \n",
    "\\end{bmatrix} \\begin{bmatrix}\n",
    "b_1 & c_1 & &  &  \\\\\n",
    " & \\tilde{b_2} & c_2 &  & \\\\\n",
    " &  & \\ddots & \\ddots & \\\\\n",
    " &  &  & \\tilde{b_{n-1}} & c_{n-1}\\\\\n",
    " &  &  &  & \\tilde{b_n} \n",
    "\\end{bmatrix}\\\\ $"
   ]
  },
  {
   "cell_type": "markdown",
   "metadata": {
    "id": "qIEMcKgNIJ3_"
   },
   "source": [
    "Tendo $A$ decomposta em duas matrizes, uma triangular inferior, e outra triangular superior, podemos escrever:"
   ]
  },
  {
   "cell_type": "markdown",
   "metadata": {
    "id": "WRimf1cAIVGg"
   },
   "source": [
    "$ L = \\begin{bmatrix}\n",
    "1 & 0 & &  &  \\\\\n",
    "m_{21} & 1 & &  & \\\\\n",
    " & \\ddots & \\ddots & & \\\\\n",
    " &  & m_{n-1,n-2} & 1 & \\\\\n",
    " &  &  & m_{n,n-1} & 1 \n",
    "\\end{bmatrix} = \\begin{bmatrix}\n",
    "1 & 0 & &  &  \\\\\n",
    "l_{2} & 1 & &  & \\\\\n",
    " & \\ddots & \\ddots & & \\\\\n",
    " &  & l_{n-1} & 1 & \\\\\n",
    " &  &  & l_n & 1 \n",
    "\\end{bmatrix}\\\\ $\n",
    "\n",
    "$ U = \\begin{bmatrix}\n",
    "b_1 & c_1 & &  &  \\\\\n",
    " & \\tilde{b_2} & c_2 &  & \\\\\n",
    " &  & \\ddots & \\ddots & \\\\\n",
    " &  &  & \\tilde{b_{n-1}} & c_{n-1}\\\\\n",
    " &  &  &  & \\tilde{b_n} \n",
    "\\end{bmatrix} =\\begin{bmatrix}\n",
    "u_1 & c_1 & &  &  \\\\\n",
    " & u_2 & c_2 &  & \\\\\n",
    " &  & \\ddots & \\ddots & \\\\\n",
    " &  &  & u_{n-1} & c_{n-1}\\\\\n",
    " &  &  &  & u_n \n",
    "\\end{bmatrix}\\\\ $"
   ]
  },
  {
   "cell_type": "markdown",
   "metadata": {
    "id": "OgGdGh4cIwt2"
   },
   "source": [
    "Finalmente, observamos as seguintes propriedades:"
   ]
  },
  {
   "cell_type": "markdown",
   "metadata": {
    "id": "ajn6vq2TZZ0u"
   },
   "source": [
    "- Únicos elementos de $U$ que podem ser não nulos são $U_{ii}$ e $U_{i,i+1}$\n",
    "- Únicos multiplicadores que podem ser não nulos são $L_{i+1,i}$\n",
    "- $U_{i,i+1} = c_i$, $u_i = U_{ii}$ e $l_{i+1} = L_{i+1,i}$.\n",
    "\n",
    "Com essas propriedades, o custo computacional fica extremamente reduzido, uma vez que podemos evitar realizar contas cujos resultados sabemos que serão iguais a zero."
   ]
  },
  {
   "cell_type": "markdown",
   "metadata": {
    "id": "9LIGh1oGZZ0u"
   },
   "source": [
    "Sabendo que $A = LU$, realizando as devidas multiplicações, encontramos:\n",
    "\n",
    "- $b_1 = u_1 \\Rightarrow u_1 = b_1$\n",
    "\n",
    "- $a_2 = l_2\\cdot u_1$, $a_3 = 0\\cdot c_1 + l_3\\cdot u_2 \\Rightarrow a_k = l_k\\cdot u_{k-1} \\Rightarrow l_k = a_k/u_{k-1}$\n",
    "\n",
    "- $b_2 = l_2\\cdot c_1 + u_2$, $b_3 = l_3\\cdot c_2 + u_3 \\Rightarrow b_k = l_k\\cdot c_{k-1} + u_k\\Rightarrow u_k = b_k - l_kc_{k-1}$\n",
    "\n",
    "\n"
   ]
  },
  {
   "cell_type": "markdown",
   "metadata": {
    "id": "uSycn6HGgnGJ"
   },
   "source": [
    "Assim, temos a base do algoritmo para encontrar as matrizes $L$ e $U$ com um custo computacional reduzido:"
   ]
  },
  {
   "cell_type": "markdown",
   "metadata": {
    "id": "XMohg8YLZZ0v"
   },
   "source": [
    "\n",
    "$u_1 = b_1$<br>\n",
    "**para** $i = 2,...\\,,n$:<br>\n",
    "&nbsp;&nbsp;&nbsp;&nbsp;&nbsp;&nbsp; $l_i = a_i/u_{i-1}$<br>\n",
    "&nbsp;&nbsp;&nbsp;&nbsp;&nbsp;&nbsp; $u_i = b_i - l_i\\cdot c_{i-1}$<br>\n",
    "**fim**"
   ]
  },
  {
   "cell_type": "markdown",
   "metadata": {
    "id": "qG2R62JA2PXo"
   },
   "source": [
    "Assim, a matriz $U$ está armazenada em dois vetores: $u$ e $c$ (já que $U_{i,i+1} = c_i$), e $L$ está armazenada em $l$."
   ]
  },
  {
   "cell_type": "code",
   "execution_count": 9,
   "metadata": {
    "id": "QMZFyauedTZs"
   },
   "outputs": [],
   "source": [
    "import numpy as np\n",
    "import time\n",
    "\n",
    "# Decompõe uma matriz A tridiagonal em uma matriz triangular inferior (L) e uma triangular superior (U)\n",
    "# Como A é tridiagonal, é caracterizada por três vetores (a, b, c), são fornecidos na entrada como arrays numpy\n",
    "# A função retorna os arrays numpy (vetores) l e u que caracterizam as matrizes L e U\n",
    "def decompLU(a, b, c):\n",
    "  n = a.shape[0]\n",
    "  l, u = np.zeros(n), np.zeros(n) # Inicia os vetores l e u\n",
    "\n",
    "  l[0] = 0 # Assim como a[0] = 0, definimos l[0] = 0\n",
    "  u[0] = b[0]\n",
    "  \n",
    "  # Segue as formulações definidas no texto acima\n",
    "  for i in range(1, n):\n",
    "    l[i] = a[i]/u[i-1]\n",
    "    u[i] = b[i] - l[i]*c[i-1]\n",
    "    \n",
    "  return(l, u)"
   ]
  },
  {
   "cell_type": "markdown",
   "metadata": {
    "id": "XcMahji0ThJC"
   },
   "source": [
    "Vamos testar o código com um exemplo: tomamos a matriz\n",
    "$$A =  \\begin{bmatrix}\n",
    "1 & 4 & 0 & 0 \\\\\n",
    "3 & 4 & 1 & 0 \\\\\n",
    "0 & 2 & 3 & 4 \\\\\n",
    "0 & 0 & 1 & 3 \n",
    "\\end{bmatrix}  $$\n",
    "\n",
    "ou seja, $a = (0, 3, 2, 1)$, $b = (1, 4, 3, 3)$, e $c = (4, 1, 4, 0)$."
   ]
  },
  {
   "cell_type": "code",
   "execution_count": 10,
   "metadata": {
    "id": "JGGajYD2ThJC",
    "outputId": "1267c121-0c02-4198-8742-566c26475318"
   },
   "outputs": [
    {
     "name": "stdout",
     "output_type": "stream",
     "text": [
      "L = \n",
      " [[ 1.          0.          0.          0.        ]\n",
      " [ 3.          1.          0.          0.        ]\n",
      " [ 0.         -0.25        1.          0.        ]\n",
      " [ 0.          0.          0.30769231  1.        ]] U = \n",
      " [[ 1.          4.          0.          0.        ]\n",
      " [ 0.         -8.          1.          0.        ]\n",
      " [ 0.          0.          3.25        4.        ]\n",
      " [ 0.          0.          0.          1.76923077]] LU = \n",
      " [[1. 4. 0. 0.]\n",
      " [3. 4. 1. 0.]\n",
      " [0. 2. 3. 4.]\n",
      " [0. 0. 1. 3.]]\n"
     ]
    }
   ],
   "source": [
    "a = np.array([0, 3, 2, 1])\n",
    "b = np.array([1, 4, 3, 3])\n",
    "c = np.array([4, 1, 4, 0])\n",
    "\n",
    "l, u = decompLU(a, b, c)\n",
    "\n",
    "L = createMatrix(l, np.ones(len(l)), np.zeros(len(l)))\n",
    "U = createMatrix(np.zeros(len(u)), u, c)\n",
    "\n",
    "print(\"L = \\n\", L, \"U = \\n\", U, \"LU = \\n\", L@U)"
   ]
  },
  {
   "cell_type": "markdown",
   "metadata": {
    "id": "Sm02lwdr2PXp"
   },
   "source": [
    "A partir disso, conseguimos resolver sistemas $Ax = d$ com matrizes $A$ tridiagonais. Vamos usar a abordagem de resolução de dois sistemas triangulares, como discutido acima. \n",
    "\n",
    "Aqui, podemos fazer uso das propriedades de $L$ e $U$ quando $A$ é tridiagonal. Para o primeiro sistema, $Ly = d$, temos:"
   ]
  },
  {
   "cell_type": "markdown",
   "metadata": {
    "id": "AmCt3YTA2PXp"
   },
   "source": [
    "$\\begin{bmatrix}\n",
    "1 & 0 &  &  &  \\\\\n",
    "l_2 & 1 & 0 &  &  \\\\\n",
    "0 & \\ddots & \\ddots & \\ddots &  \\\\\n",
    " & 0 & l_{n-1} & 1 & 0 \\\\\n",
    " &  \\ddots &   0& l_n & 1  \\end{bmatrix} \\cdot \\begin{bmatrix}y_1\\\\y_2\\\\ \\vdots \\\\ y_{n-1}\\\\ y_n\\end{bmatrix} = \\begin{bmatrix}d_1\\\\d_2\\\\ \\vdots \\\\ d_{n-1}\\\\ d_n\\end{bmatrix}$"
   ]
  },
  {
   "cell_type": "markdown",
   "metadata": {
    "id": "Ckhbw-Xw2PXp"
   },
   "source": [
    "Ou seja, $y_1 = d_1$, $l_2\\cdot y_1 + y_2 = d_2 \\Leftrightarrow y_2 = d_2 - l_2\\cdot y_1$ ...\n",
    "\n",
    "Sem perda de generalidade, para $2 \\leq i \\leq n$, $y_i = d_i - l_i\\cdot y_{i-1}$."
   ]
  },
  {
   "cell_type": "markdown",
   "metadata": {
    "id": "BdhOq-ex2PXq"
   },
   "source": [
    "Já para o sistema $Ux = y$, temos:"
   ]
  },
  {
   "cell_type": "markdown",
   "metadata": {
    "id": "Hqn2CJIx2PXq"
   },
   "source": [
    "$\\begin{bmatrix}\n",
    "u_1 & c_1 &  &  &  \\\\\n",
    "0 & u_2 & c_2 &  &  \\\\\n",
    " & \\ddots & \\ddots & \\ddots &  \\\\\n",
    " &  & 0 & u_{n-1} & c_{n-1} \\\\\n",
    " &  &  & 0 & u_n \n",
    "\\end{bmatrix}\\cdot\\begin{bmatrix}x_1\\\\x_2\\\\ \\vdots \\\\ x_{n-1}\\\\ x_n\\end{bmatrix} = \\begin{bmatrix}y_1\\\\y_2\\\\ \\vdots \\\\ y_{n-1}\\\\ y_n\\end{bmatrix}$"
   ]
  },
  {
   "cell_type": "markdown",
   "metadata": {
    "id": "itvPpzHY2PXq"
   },
   "source": [
    "Isto é, de baixo para cima, $u_n\\cdot x_n = y_n \\Leftrightarrow x_n = y_n/u_n$ e $u_{n-1}\\cdot x_{n-1} + c_{n-1}\\cdot x_n = y_{n-1}\\Leftrightarrow x_{n-1} = \\frac{y_{n-1} - c_{n-1}\\cdot x_n}{u_{n-1}}$\n",
    "\n",
    "Assim, para $n-1 \\leq i \\leq 1$, $x_{i} = \\frac{y_{i} - c_{i}\\cdot x_{i+1}}{u_{i}}$"
   ]
  },
  {
   "cell_type": "code",
   "execution_count": 11,
   "metadata": {
    "id": "hgLmywGNhfch"
   },
   "outputs": [],
   "source": [
    "# São aplicadas as formulações apresentadas no texto para resolver um sistema do tipo Ax = d, com\n",
    "# A sendo uma matriz tridiagonal.\n",
    "# Na entrada são fornecidos os três vetores (a, b, c) que definem a matriz A, além do vetor d. Todos são arrays numpy.\n",
    "# A função devolve o vetor solução x\n",
    "\n",
    "def resolveSistemaTridiagonal(a, b, c, d):\n",
    "  n = a.shape[0]\n",
    "  # Decompõe a matriz tridiagonal em uma triangular inferior, caracterizada pelo vetor l,\n",
    "  # e uma triangular superior, caracterizada pelos vetores u e c\n",
    "  l, u = decompLU(a, b, c)\n",
    "\n",
    "  #Ly = d\n",
    "  y = np.zeros(n)\n",
    "\n",
    "  y[0] = d[0]\n",
    "  for i in range(1, n):\n",
    "    y[i] = d[i] - l[i]*y[i-1]\n",
    "\n",
    "  #Ux = y\n",
    "  x = np.zeros(n)\n",
    "\n",
    "  x[n-1] = y[n-1]/u[n-1]\n",
    "  for i in range(n-2, -1, -1):\n",
    "    x[i] = (y[i]-c[i]*x[i+1])/u[i]\n",
    "\n",
    "  return x"
   ]
  },
  {
   "cell_type": "markdown",
   "metadata": {
    "id": "ao2QDiL82PXr"
   },
   "source": [
    "Podemos realizar um teste com o seguinte sistema:\n",
    "\n",
    "$ \\begin{bmatrix}\n",
    "10 & 2 & 0 & 0 \\\\\n",
    "3 & 10 & 4 & 0 \\\\\n",
    "0 & 1 & 7 & 5 \\\\\n",
    "0 & 0 & 3 & 4 \n",
    "\\end{bmatrix} \\cdot \\begin{bmatrix}\n",
    "x_1 \\\\ x_2 \\\\ x_3 \\\\ x_4\n",
    "\\end{bmatrix}  = \\begin{bmatrix}\n",
    "3 \\\\ 4 \\\\ 5 \\\\ 6\n",
    "\\end{bmatrix}$\n",
    "\n"
   ]
  },
  {
   "cell_type": "markdown",
   "metadata": {
    "id": "OtZHcjRwcSxO"
   },
   "source": [
    "Vamos imprimir a **solução** do sistema linear tridiagonal $Ax=d$, o **resíduo** $(d-A \\bar{x})$ para a solução aproximada $\\bar{x}$ encontrada e o **tempo** de execução para a solução:"
   ]
  },
  {
   "cell_type": "code",
   "execution_count": 12,
   "metadata": {
    "colab": {
     "base_uri": "https://localhost:8080/"
    },
    "id": "0zIanf5NtnYr",
    "outputId": "cbd4c52f-8796-4910-cbcf-02f379e0c8d8"
   },
   "outputs": [
    {
     "name": "stdout",
     "output_type": "stream",
     "text": [
      "\n",
      "Solucao: \n",
      "[ 0.14877589  0.75612053 -1.00188324  2.25141243]\n",
      "\n",
      "Residuo: \n",
      "1.7763568394002505e-15\n",
      "\n",
      "Tempo: \n",
      "0.0009970664978027344\n"
     ]
    }
   ],
   "source": [
    "a = np.array([0, 3, 1, 3])\n",
    "b = np.array([10, 10, 7, 4])\n",
    "c = np.array([2, 4, 5, 0])\n",
    "d = np.array([3, 4, 5, 6])\n",
    "\n",
    "start = time.time()\n",
    "x = resolveSistemaTridiagonal(a, b, c, d)\n",
    "end = time.time()\n",
    "\n",
    "print(\"\\nSolucao: \")\n",
    "print(x)\n",
    "\n",
    "A = createMatrix(a, b, c)\n",
    "\n",
    "print(\"\\nResiduo: \")\n",
    "print(np.max(np.abs(A@x-d)))\n",
    "\n",
    "print(\"\\nTempo: \")\n",
    "print(end - start)"
   ]
  },
  {
   "cell_type": "markdown",
   "metadata": {
    "id": "Cb4dUwpZIwgT"
   },
   "source": [
    "-------------------------"
   ]
  },
  {
   "cell_type": "markdown",
   "metadata": {
    "id": "nguEksNY2PXs"
   },
   "source": [
    "### **Sistemas Tridiagonais Cíclicos**"
   ]
  },
  {
   "cell_type": "markdown",
   "metadata": {
    "id": "xZsfNVuw2PXt"
   },
   "source": [
    "Uma matriz triangular cíclica tem um formato muito semelhante às tridiagonais comuns, à exceção de dois elementos: o último da primeira linha; e o último da primeira coluna:"
   ]
  },
  {
   "cell_type": "markdown",
   "metadata": {
    "id": "ucFL5dn62PXt"
   },
   "source": [
    "$ A = \\begin{bmatrix}\n",
    "b_1 & c_1 &  &  & a_1\\\\\n",
    "a_2 & b_2 & c_2 &  &  \\\\\n",
    " & \\ddots & \\ddots & \\ddots &  \\\\\n",
    " &  & a_{n-1} & b_{n-1} & c_{n-1} \\\\\n",
    "c_n&  &  & a_n & b_n \n",
    "\\end{bmatrix}  $"
   ]
  },
  {
   "cell_type": "markdown",
   "metadata": {
    "id": "MoP8O1ie2PXt"
   },
   "source": [
    "Note que a matriz $n-1 \\times n-1$ formada pelas linhas e colunas de $1$ a $n-1$ é tridiagonal. Vamos denotá-la por $T$. Além disso, definimos $v = (a_1, 0, ...\\, ,0, c_{n-1})^t$ e $w = (c_n, 0, ...\\,,0, a_n)^t$. "
   ]
  },
  {
   "cell_type": "markdown",
   "metadata": {
    "id": "NWME8wTy2PXt"
   },
   "source": [
    "Sabe-se que $x = (x_1, ...\\,, x_n)^t$, mas será útil dividir esse vetor em $\\tilde{x} = (x_1, ...\\,, x_{n-1})^t$ e $x_n$. Faremos o mesmo para o vetor $d$."
   ]
  },
  {
   "cell_type": "markdown",
   "metadata": {
    "id": "zj71_FO02PXt"
   },
   "source": [
    "Com isso, o sistema $Ax = d$ pode ser escrito como:\n",
    "\n",
    "$\\begin{cases}\n",
    "T\\tilde{x} + x_nv = \\tilde{d}\\\\\n",
    "w^t\\tilde{x} + x_nb_n = d_n\n",
    "\\end{cases}$"
   ]
  },
  {
   "cell_type": "markdown",
   "metadata": {
    "id": "gVh7k-Ak2PXu"
   },
   "source": [
    "que tem solução:\n",
    "\n",
    "$\\begin{cases}\n",
    "x_n = \\frac{d_n-c_n\\tilde{y}_1-a_n\\tilde{y}_{n-1}}{b_n-c_n\\tilde{z}_1-a_n\\tilde{z}_{n-1}}\\\\\n",
    "\\tilde{x} = \\tilde{y} - x_n\\tilde{z}\n",
    "\\end{cases}$"
   ]
  },
  {
   "cell_type": "markdown",
   "metadata": {
    "id": "CRKZ3w_W2PXu"
   },
   "source": [
    "em que $\\tilde{y}$ é solução de $T\\tilde{y} = \\tilde{d}$, e $\\tilde{z}$ é solução de $T\\tilde{z} = v$. É de extrema importância compreender a dimensão de $v$. Note que ele deve ter a mesma dimensão de $\\tilde{z}$, que, por sua vez, é $n-1 \\times 1$, já que está sendo multiplicado pela matriz $T$, que é $n-1 \\times n-1$. Logo, o vetor $v$ deve ter dimensão $n-1 \\times 1$."
   ]
  },
  {
   "cell_type": "markdown",
   "metadata": {
    "id": "FqFXcxIy0HC7"
   },
   "source": [
    "----------------------"
   ]
  },
  {
   "cell_type": "markdown",
   "metadata": {
    "id": "4xB3-ndfnXg1"
   },
   "source": [
    "### **Tarefa - Parte 2:** algoritmo para a resolução de um sistema linear tridiagonal cíclico:\n",
    "### (usando a resolução de sistemas tridiagonais)"
   ]
  },
  {
   "cell_type": "code",
   "execution_count": 13,
   "metadata": {
    "id": "_KI17iHHnnP0"
   },
   "outputs": [],
   "source": [
    "# Aplica as formulações apresentadas no texto para resolver um sistema tridiagonal cíclico Ax = d\n",
    "# Como A é uma matriz tridiagonal, são fornecidos na entrada os três vetores que a definem (a, b, c), e o vetor d\n",
    "# A função devolve o vetor solução x\n",
    "def resolveSistemaCiclico(a, b, c, d):\n",
    "  n = a.shape[0]\n",
    "\n",
    "  # Montar matriz T\n",
    "  at = a[0:n-1].copy()\n",
    "  at[0] = 0\n",
    "  bt = b[0:n-1].copy()\n",
    "  ct = c[0:n-1].copy()\n",
    "  ct[-1] = 0\n",
    "\n",
    "  # Montar vetor d~\n",
    "  dt = d[0:n-1].copy()\n",
    "\n",
    "  # Montar vetor v\n",
    "  v = np.zeros(n-1)\n",
    "  v[0] = a[0]\n",
    "  v[n-2] = c[n-2]\n",
    "\n",
    "  # Montar vetor w\n",
    "  w = np.zeros(n)\n",
    "  w[0] = c[n-1]\n",
    "  w[-1] = a[n-1]\n",
    "\n",
    "  # Solução sistema Ty = d~\n",
    "  y = resolveSistemaTridiagonal(at, bt, ct, dt)\n",
    "\n",
    "  # Solução sistema Tz = v\n",
    "  z = resolveSistemaTridiagonal(at, bt, ct, v)\n",
    "\n",
    "  x_n = (d[n-1]-c[n-1]*y[0]-a[n-1]*y[n-2])/(b[n-1]-c[n-1]*z[0]-a[n-1]*z[n-2])\n",
    "\n",
    "  x = y - x_n*z\n",
    "\n",
    "  x = np.append(x, x_n)\n",
    "\n",
    "  return x"
   ]
  },
  {
   "cell_type": "markdown",
   "metadata": {
    "id": "PIHqdbye0L4k"
   },
   "source": [
    "----------------------"
   ]
  },
  {
   "cell_type": "markdown",
   "metadata": {
    "id": "F4bB4yw80Rl6"
   },
   "source": [
    "### Teste:"
   ]
  },
  {
   "cell_type": "markdown",
   "metadata": {
    "id": "zBEbDu7DI2jr"
   },
   "source": [
    "É válido implementar uma função de teste para o algoritmo de resolução do sistema linear tridiagonal cíclico, sendo os elementos dos vetores $a$, $b$, $c$ e $d$ fornecidos pela própria tarefa:\n",
    "\n",
    "\n",
    "*  $a_i = \\dfrac{2i-1}{4i}, \\, 1 \\leq i \\leq n-1, \\, a_n = \\dfrac{2n-1}{2n};$\n",
    "\n",
    "*  $c_i = 1 - a_i, \\, 1 \\leq i \\leq n ;$\n",
    "\n",
    "*  $b_i = 2, \\, 1 \\leq i \\leq n$\n",
    "\n",
    "*  $d_i = \\cos(\\dfrac{2\\pi i^2}{n^2}) \\, 1 \\leq i \\leq n$"
   ]
  },
  {
   "cell_type": "code",
   "execution_count": 14,
   "metadata": {},
   "outputs": [],
   "source": [
    "# Cria os vetores sugeridos para o teste que definem a matriz tridiagonal cíclica a ser resolvida no sistema\n",
    "# n = tamanho da matriz utilizada para teste\n",
    "def criaMatrizTeste(n):\n",
    "    a = np.zeros(n)\n",
    "    b = np.zeros(n)\n",
    "    c = np.zeros(n)\n",
    "    d = np.zeros(n)\n",
    "    \n",
    "    for i in range(1, n):\n",
    "        a[i-1] = (2*i-1)/(4*i)\n",
    "        c[i-1] = 1-a[i-1]\n",
    "        b[i-1] = 2\n",
    "        d[i-1] = np.cos((2*(np.pi)*(i**2))/(n**2))\n",
    "    \n",
    "    a[n-1] = (2*n-1)/(2*n)\n",
    "    c[n-1] = 1-a[n-1]\n",
    "    b[n-1] = 2\n",
    "    d[n-1] = 1\n",
    "    \n",
    "    return a,b,c,d"
   ]
  },
  {
   "cell_type": "markdown",
   "metadata": {
    "id": "wCxgWbMXL-Yk"
   },
   "source": [
    "Vamos imprimir a **solução** do sistema linear tridiagonal cíclico $Ax=d$, o **resíduo** $(A \\bar{x} -d)$ para a solução aproximada $\\bar{x}$ encontrada e o **tempo** de execução para a solução:"
   ]
  },
  {
   "cell_type": "code",
   "execution_count": 15,
   "metadata": {
    "id": "hgI83wResonJ"
   },
   "outputs": [],
   "source": [
    "# n = tamanho da matriz utilizada para teste\n",
    "def teste(n):\n",
    "  a, b, c, d = criaMatrizTeste(n) \n",
    "\n",
    "  start = time.time()\n",
    "\n",
    "  x = resolveSistemaCiclico(a, b, c, d)\n",
    "\n",
    "  end = time.time()\n",
    "\n",
    "  print('n =',n)  \n",
    "\n",
    "  print(\"\\nSolucão: \")\n",
    "  print(x)\n",
    "\n",
    "  A = createMatrix(a, b, c)\n",
    "  print(\"\\nResíduo: \")\n",
    "  print(np.max(np.abs(A@x - d)))\n",
    "\n",
    "  print(\"\\nTempo: \")\n",
    "  print(end-start)\n",
    "\n",
    "  return"
   ]
  },
  {
   "cell_type": "markdown",
   "metadata": {
    "id": "zAB97_qvdZot"
   },
   "source": [
    "#### Teste usando $n=20$ (sugestão da tarefa):"
   ]
  },
  {
   "cell_type": "code",
   "execution_count": 16,
   "metadata": {
    "colab": {
     "base_uri": "https://localhost:8080/"
    },
    "id": "8qRRz0cHdJFk",
    "outputId": "fad285c9-7df5-41e8-c584-56fab29f5ea5"
   },
   "outputs": [
    {
     "name": "stdout",
     "output_type": "stream",
     "text": [
      "n = 20\n",
      "\n",
      "Solucão: \n",
      "[ 0.33031512  0.33369784  0.33082061  0.32458573  0.3105381   0.28498139\n",
      "  0.24375728  0.18349137  0.10274415  0.00360629 -0.10669724 -0.2147279\n",
      " -0.30113746 -0.34330813 -0.32097501 -0.22451082 -0.0638644   0.12580676\n",
      "  0.28713644  0.35589205]\n",
      "\n",
      "Resíduo: \n",
      "2.220446049250313e-16\n",
      "\n",
      "Tempo: \n",
      "0.0\n"
     ]
    }
   ],
   "source": [
    "teste(20)"
   ]
  },
  {
   "cell_type": "markdown",
   "metadata": {
    "id": "RhLP_wybp20-"
   },
   "source": [
    "É possível perceber um resíduo bem pequeno, o que é um forte indicador de que o código realmente está funcionando.\n",
    "\n",
    "Além disso, o tempo de execução está pequeno, mostrando que o código está relativamente otimizado."
   ]
  },
  {
   "cell_type": "markdown",
   "metadata": {
    "id": "cRSok3zyqmq5"
   },
   "source": [
    "#### Teste usando $n=10000$:\n",
    "#### (apenas para mostrar que o tempo de execução está ok e que o resíduo continua pequeno mesmo para matrizes grandes)"
   ]
  },
  {
   "cell_type": "code",
   "execution_count": 17,
   "metadata": {
    "colab": {
     "base_uri": "https://localhost:8080/"
    },
    "id": "NCN0RvUbqZvs",
    "outputId": "059997e1-088e-4884-b470-82121d2d36ec"
   },
   "outputs": [
    {
     "name": "stdout",
     "output_type": "stream",
     "text": [
      "n = 10000\n",
      "\n",
      "Solucão: \n",
      "[0.33333332 0.33333334 0.33333333 ... 0.33333237 0.33333316 0.33333342]\n",
      "\n",
      "Resíduo: \n",
      "2.220446049250313e-16\n",
      "\n",
      "Tempo: \n",
      "0.061870574951171875\n"
     ]
    }
   ],
   "source": [
    "teste(10000)"
   ]
  },
  {
   "cell_type": "markdown",
   "metadata": {
    "id": "jNTry619gnGO"
   },
   "source": [
    "## **Referências**\n",
    "\n",
    "- Equipe de MAP3121. Decomposição LU para Matrizes Tridiagonais. <br>\n",
    "\n",
    "- Peixoto, Pedro Silva. Anotações de aula de MAP3121.\n",
    "\n",
    "- GAUSSIAN Elimination, LU-Factorization, and Cholesky Factorization. Disponível em:\n",
    "<https://www.cis.upenn.edu/~cis515/cis515-11-sl3.pdf>. Acesso em 19/04/2022.\n",
    "\n",
    "- LU Factorizations. Disponível em: <https://math.okstate.edu/people/binegar/4513-F98/\n",
    "4513-l10.pdf>. Acesso em 20/04/2022.\n",
    "\n",
    "\n",
    "\n",
    "\n"
   ]
  }
 ],
 "metadata": {
  "colab": {
   "collapsed_sections": [],
   "name": "ep1_final.ipynb",
   "provenance": []
  },
  "interpreter": {
   "hash": "81501fb6968db567c48e2f6497df9bfcfab897da0876ab26c596c8e980f4fbda"
  },
  "kernelspec": {
   "display_name": "Python 3 (ipykernel)",
   "language": "python",
   "name": "python3"
  },
  "language_info": {
   "codemirror_mode": {
    "name": "ipython",
    "version": 3
   },
   "file_extension": ".py",
   "mimetype": "text/x-python",
   "name": "python",
   "nbconvert_exporter": "python",
   "pygments_lexer": "ipython3",
   "version": "3.9.7"
  }
 },
 "nbformat": 4,
 "nbformat_minor": 1
}
