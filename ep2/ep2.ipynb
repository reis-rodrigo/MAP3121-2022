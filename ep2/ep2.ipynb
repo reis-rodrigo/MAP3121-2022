{
 "cells": [
  {
   "cell_type": "markdown",
   "metadata": {
    "id": "AlKWoh44JMEr"
   },
   "source": [
    "# **Tarefa 2 - Fórmulas de Integração Numérica de Gauss - MAP3121**\n",
    "\n",
    "#### Data de entrega: 05/06/2022\n",
    "\n",
    "*   Rodrigo Gebara Reis - NUSP: 11819880\n",
    "*   Victor Rocha da Silva - NUSP: 11223782\n"
   ]
  },
  {
   "cell_type": "markdown",
   "metadata": {
    "id": "LhvJwQCt1EcN"
   },
   "source": [
    "------------------------------------------------------------------------"
   ]
  },
  {
   "cell_type": "markdown",
   "metadata": {
    "id": "zbfXf7LYKE8g"
   },
   "source": [
    "## **Fórmulas de Gauss**\n",
    "\n",
    "De forma geral, uma fórmula para se aproximar uma integral de forma numérica é dada por: \n",
    "\n",
    "$$ \\int_a^b f(x)dx = \\sum_{j=1}^n \\omega_jf(x_j) + E_n(f)$$\n",
    "\n",
    "Pode-se pensar nos pesos $\\omega_j$ como relacionados à divisão do intervalo $[a,b]$ em diversos subintervalos. Assim, a integral é aproximada pela soma (algébrica) da área dos retângulos definidos pelos subintervalos e a função avaliada no extremo direito de cada intervalo $[x_j,x_{j+1}]$.\n",
    "\n",
    "Para diferentes escolhas de $\\omega_j$, encontra-se diferentes formas para o erro $E_n$. No caso das fórmulas de Gauss, escolhe-se $\\omega_j$ tais que $E(f) = 0$ para polinômios de grau até $2n-1$. \n",
    "\n",
    "Observe que, na somatória, tem-se $n$ variáveis $x$, e $n$ pesos $\\omega$, ou seja, há um total de $2n$ graus de liberdade. Com isso, é possível escrever um polinômio de grau máximo $2n-1$, dado que $\\{x_j\\}_j$ e $\\{\\omega_j\\}_j$ sejam linearmente independentes.\n"
   ]
  },
  {
   "cell_type": "markdown",
   "metadata": {
    "id": "_4cy2Rw11GgX"
   },
   "source": [
    "------------------------------------------------------------------------"
   ]
  },
  {
   "cell_type": "markdown",
   "metadata": {
    "id": "B6YH6FmJGJBI"
   },
   "source": [
    "### **Polinômios de Lagrange**\n",
    "\n",
    "Polinômios de Lagrange são tais que, dado um conjunto $\\{y_j\\}$ de $n$ pontos, a função:\n",
    "\n",
    "$$y = \\sum_{j=1}^ny_iL_i(x)$$\n",
    "\n",
    "passa exatamente pelos $n$ pontos do conjunto dado. $L_i(x)$ são os polinômios de Lagrange. Similarmente, se tivermos uma função $f(x)$ que passa por $n$ pontos conhecidos, então\n",
    "\n",
    "$$y = \\sum_{j=1}^nf(x_i)L_i(x)$$\n",
    "\n",
    "é uma boa aproximação para $f(x)$, e pode ser utilizada para interpolações, como visto em aula.\n"
   ]
  },
  {
   "cell_type": "markdown",
   "metadata": {
    "id": "iLlUP6ymH7ML"
   },
   "source": [
    "Voltando ao problema original, queremos aproximar a integral de uma função $f(x)$ qualquer no intervalo $[-1,1]$. Assim, temos:\n",
    "\n",
    "$$\\int_{-1}^1 f(x)dx \\approx \\int_{-1}^1 \\sum_{j=1}^nf(x_i)L_i(x)dx = \\sum_{j=1}^nf(x_i)\\int_{-1}^1L_i(x)dx$$\n",
    "\n",
    "Mas inicialmente supomos que $\\int_a^b f(x)dx = \\sum_{j=1}^n \\omega_jf(x_j)$, ou seja,\n",
    "\n",
    "$$\\omega_j = \\int_{-1}^1L_j(x)dx$$"
   ]
  },
  {
   "cell_type": "markdown",
   "metadata": {
    "id": "g-FNzniaM1NE"
   },
   "source": [
    "Agora, note que, com $2n$ graus de liberdade, encontra-se um único polinômio, de grau $2n-1$, que passe pelos $n$ pontos com $n$ pesos. Assim, claramente a fórmula\n",
    "\n",
    "$$\\int_{-1}^1 f(x)dx = \\sum_{j=1}^n\\omega_j f(x_j)$$\n",
    "\n",
    "é exata se $f(x)$ é um polinômio de grau menor ou igual a $2n-1$. "
   ]
  },
  {
   "cell_type": "markdown",
   "metadata": {
    "id": "CxBlRhmYSMFE"
   },
   "source": [
    "\n",
    "Dada a demonstração acima, outro fato que chama atenção é que a fórmula nunca poderia ser exata para polinômios de grau $2n$. Se isso ocorresse, então tal polinômio passaria por todos os pontos $x_j$ (todos raízes duplas), e então poderia ser escrito como:\n",
    "\n",
    "$$p(x) = a(x-x_1)^2(x-x_2)^2\\dots(x-x_n)^2,$$\n",
    "\n",
    "ou seja, a parcela $\\sum_{j=1}^n \\omega_jf(x_j) = 0$. No entanto, constata-se duas informações sobre esse polinômio:\n",
    "- $p(x) \\geq 0,\\, \\forall\\, x\\in\\mathbb{R}$\n",
    "- $\\lim_{x\\to-\\infty} p(x) = \\lim_{x\\to\\infty} p(x) = +\\infty$\n",
    "\n",
    "Logo, a integral $\\int_a^b p(x)dx$ deve ser necessariamente positiva."
   ]
  },
  {
   "cell_type": "markdown",
   "metadata": {
    "id": "pno26M0iM1NF"
   },
   "source": [
    "Além disso, para um polinômio qualquer de grau menor ou igual a $2n-1$, podemos escrever:\n",
    "\n",
    "$$I = \\int_{-1}^1 (x-x_1)(x-x_2)\\dots(x-x_n)q(x)dx,$$\n",
    "\n",
    "com $q(x)$ de grau menor ou igual a $n-1$. Aplicando a fórmula deduzida, essa integral deve ser igual a zero, para qualquer $q(x)$, já que, ao substituir cada $x_j$, $f(x_j) = 0$ para qualquer $j$.\n",
    "\n",
    "Sendo assim, agora buscamos o conjunto $\\{x_j\\}$ tal que isso seja verdade. Ora, mas se o resultado da integral de $-1$ a $1$ é igual a zero, se pensarmos no produto interno usual do espaço dos polinômios\n",
    "\n",
    "$$\\langle p, q\\rangle = \\int_{-1}^1p(x)q(x)dx$$\n",
    "\n",
    "então $q(x)$ deve ser ortogonal a $(x-x_1)(x-x_2)\\dots(x-x_n)$. Com isso, buscamos uma família de polinômios $\\{P_n\\}_{n\\in\\mathbb{N}}$, que tenham como raízes $x_1, x_2\\dots x_n$. São os polinômios de Legendre."
   ]
  },
  {
   "cell_type": "markdown",
   "metadata": {},
   "source": [
    "---------------------------------------------------------------------------------"
   ]
  },
  {
   "cell_type": "markdown",
   "metadata": {
    "id": "YDIJDVU8PPFy"
   },
   "source": [
    "### **Polinômios de Legendre**\n",
    "\n",
    "Dados os $2n$ graus de liberdade, vamos explorar as escolhas de $x_j$ para que o erro seja mínimo. Para isso, utilizaremos os polinômios de Legendre, que formam o conjunto $\\{p_n(x)\\,|\\, n = 1, 2, 3,\\dots\\}$. Eles possuem uma propriedade extremamente importante: formam um espaço $n$-dimensional de vetores ortogonais, ou seja,\n",
    "\n",
    "$$\\int_{-1}^1p_i(x)p_j(x)dx = 0,\\textrm{ se } i\\neq j\\,\\,\\,\\,\\,\\,\\,\\,\\,\\, (1)$$\n",
    "\n",
    "Note que eles também formam uma base do espaço dos polinômios de grau menor ou igual a $n$, então, para um polinômio $m(x)$ de grau menor que $n$:\n",
    "\n",
    "$$\\int_{-1}^1m(x)p_n(x)dx = 0\\,\\,\\,\\,\\,\\,\\,\\,\\,\\, (2)$$\n",
    "\n"
   ]
  },
  {
   "cell_type": "markdown",
   "metadata": {
    "id": "aPyRurGYM1NG"
   },
   "source": [
    "Dessa forma, tomando $p_0(x) = 1$ e $p_1(x) = x$, pode-se encontrar, aplicando as propriedades $(1)$ e $(2)$, os outros polinômios."
   ]
  },
  {
   "cell_type": "markdown",
   "metadata": {
    "id": "RS9uWaHBH6zm"
   },
   "source": [
    "Sendo assim, fica provado que, escolhendo $\\{x_j\\}$ como as raízes dos polinômios de Legendre, a integral $\\int_{-1}^1 f(x)dx$ é _exatamente_ igual a $\\sum_{j=1}^nw_jf(x_j)$ para polinômios de grau menor ou igual a $2n-1$, como queríamos demonstrar."
   ]
  },
  {
   "cell_type": "markdown",
   "metadata": {
    "id": "IBPKLNfANS5n"
   },
   "source": [
    "Os nós e pesos para aproximar integrais no intervalo $[-1,1]$ são bem conhecidos, e são facilmente encontrados em tabelas. Por exemplo, a fórmula\n",
    "\n",
    "$$\\int_{-1}^1 f(x)dx \\approx \\frac{5}{9}f(-\\sqrt{0.6})+\\frac{8}{9}f(0)+\\frac{5}{9}f(\\sqrt{0.6})$$\n",
    "\n",
    "com três nós e três pesos, seguindo a dedução acima, é exata para polinômios de grau máximo $2\\cdot 3 - 1 = 5$."
   ]
  },
  {
   "cell_type": "markdown",
   "metadata": {
    "id": "Gtno8e8R0f0p"
   },
   "source": [
    "Por exemplo, para polinômios de grau 1:\n",
    "$$\\int_{-1}^1 ax + bdx = \\frac{ax^2}{2}+bx\\Bigr|\\substack{1\\\\\\\\\\\\\\\\\\\\\\\\-1} = 2b, $$ \n",
    "e $$\\frac{5}{9}f(-\\sqrt{0.6})+\\frac{8}{9}f(0)+\\frac{5}{9}f(\\sqrt{0.6}) = \\frac{5}{9}a(-\\sqrt{0.6})+\\frac{5}{9}b+\\frac{8}{9}b+\\frac{5}{9}a(\\sqrt{0.6})+\\frac{5}{9}b = 2b$$"
   ]
  },
  {
   "cell_type": "markdown",
   "metadata": {
    "id": "_-BFXZibM1NH"
   },
   "source": [
    "------------------------------------------------------------------------"
   ]
  },
  {
   "cell_type": "markdown",
   "metadata": {
    "id": "1jFE7rmar8Fb"
   },
   "source": [
    "### **Simetria dos Nós**\n",
    "\n",
    "Voltando aos polinômios de Legendre, existe uma fórmula de recorrência para eles. Partindo de $p_0(x) = 1$, $p_1(x) = x$, temos:\n",
    "\n",
    "$$p_{n+1}(x)=\\frac{2n+1}{n+1}xp_n(x)-\\frac{n}{n+1}p_{n-1}(x), \\,\\, \\forall \\, n \\geq 1$$\n",
    "\n",
    "Note que \n",
    "\n",
    "$$p_{n+1}(-x)=\\frac{2n+1}{n+1}(-x)p_n(-x)-\\frac{n}{n+1}p_{n-1}(-x)$$\n",
    "\n",
    "ou seja, $p_{n+1}(x)$ é par se $p_n(x)$ é ímpar e $p_{n-1}(x)$ é par. De fato, observando-se a ordem que se forma a partir de $p_0(x)$, isso ocorre. Logo, os polinômios de Legendre intercalam-se entre par e ímpar, começando como par em $p_0(x)$. Esse fato, por si só, garante uma simetria das raízes desses polinômios. Similarmente, também há uma simetria entre os pesos que acompanham essas raízes.\n",
    "\n",
    "No entanto, ainda pode-se provar, utilizando limites e o Teorema do Valor Intermediário, que todas as raízes de $p_n(x)$ encontram-se no intervalo $[-1,1]$.\n"
   ]
  },
  {
   "cell_type": "markdown",
   "metadata": {
    "id": "Hlmqo96v1Jpf"
   },
   "source": [
    "------------------------------------------------------------------------"
   ]
  },
  {
   "cell_type": "markdown",
   "metadata": {
    "id": "rHIuJGMwWQDO"
   },
   "source": [
    "### **Mudança de Variável**\n",
    "\n",
    "Até o momento, foram consideradas apenas integrais no intervalo $[-1,1]$, que facilitava a análise por causa do produto interno usual do espaço dos polinômios:\n",
    "\n",
    "$$\\langle p, q\\rangle = \\int_{-1}^1p(x)q(x)dx$$\n",
    "\n",
    "No entanto, o caso mais geral proposto no início do texto é relativo a um intervalo genérico $[a,b]$. Isso não invalida a dedução apresentada anteriormente: basta aplicar uma transformação linear à variável $x$ para mapeá-la no intervalo $[-1,1]$. Observe:\n",
    "\n",
    "$$x\\in[a, b];\\,\\,\\, y\\in[-1,1] \\Rightarrow \\dfrac{x-a}{b-a} = \\dfrac{y-(-1)}{1-(-1)}$$\n",
    "\n",
    "\n"
   ]
  },
  {
   "cell_type": "markdown",
   "metadata": {
    "id": "2j_lsBT25qXU"
   },
   "source": [
    "Isolando a variável $x$ e derivando:\n",
    "\n",
    "$$\\Rightarrow x = \\dfrac{b-a}{2}\\cdot y+\\dfrac{a+b}{2}$$\n",
    "\n",
    "$$\\Rightarrow \\dfrac{dx}{dy}=\\dfrac{b-a}{2} \\Rightarrow dx = \\dfrac{b-a}{2}dy $$"
   ]
  },
  {
   "cell_type": "markdown",
   "metadata": {
    "id": "u8WEfCgt5qz8"
   },
   "source": [
    "Assim, aplicando a mudança de variável:\n",
    "\n",
    "$$\\int_a^bf(x)dx = \\int_{-1}^1 f\\left(\\dfrac{b-a}{2}\\cdot y+\\dfrac{a+b}{2}\\right)\\cdot\\dfrac{b-a}{2}dy$$ \n",
    "$$= \\dfrac{b-a}{2}\\int_{-1}^1 f\\left(\\dfrac{b-a}{2}\\cdot y+\\dfrac{a+b}{2}\\right)dy = \\dfrac{b-a}{2}\\sum_{j=1}^n\\omega_jf\\left(\\dfrac{b-a}{2}\\cdot y_j+\\dfrac{a+b}{2}\\right)$$"
   ]
  },
  {
   "cell_type": "markdown",
   "metadata": {},
   "source": [
    "-----------------------------------------------------------------------------"
   ]
  },
  {
   "cell_type": "markdown",
   "metadata": {},
   "source": [
    "### Implementação dos Nós e Pesos:"
   ]
  },
  {
   "cell_type": "markdown",
   "metadata": {
    "id": "ZEt2TcQtCZ-j"
   },
   "source": [
    "Os pesos e nós são facilmente encontrados em tabelas para determinados valores de $n$, como $n = 6$, $8$ e $10$. Vamos implementar as fórmulas obtidas até aqui, utilizando esses valores de $n$:"
   ]
  },
  {
   "cell_type": "code",
   "execution_count": 1,
   "metadata": {
    "id": "ThjVH_cL4OlO"
   },
   "outputs": [],
   "source": [
    "import numpy as np\n",
    "\n",
    "def nos_pesos(n): # recupera nós e pesos a partir do arquivo .txt fornecido\n",
    "\n",
    "  assert (n == 6 or n == 8 or n == 10), \"O valor utilizado para os nós e pesos não é válido. Tente usar 6, 8 ou 10.\"\n",
    "\n",
    "  if n == 6:\n",
    "    x = np.array([-0.2386191860831969086305017, -0.6612093864662645136613996, \n",
    "                  -0.9324695142031520278123016, 0.2386191860831969086305017, \n",
    "                  0.6612093864662645136613996, 0.9324695142031520278123016])\n",
    "    w = np.array([0.4679139345726910473898703, 0.3607615730481386075698335, \n",
    "                  0.1713244923791703450402961, 0.4679139345726910473898703, \n",
    "                  0.3607615730481386075698335, 0.1713244923791703450402961])\n",
    "\n",
    "  elif n == 8:\n",
    "    x = np.array([-0.1834346424956498049394761, -0.5255324099163289858177390, \n",
    "                  -0.7966664774136267395915539, -0.9602898564975362316835609,\n",
    "                  0.1834346424956498049394761, 0.5255324099163289858177390, \n",
    "                  0.7966664774136267395915539, 0.9602898564975362316835609])\n",
    "    w = np.array([0.3626837833783619829651504, 0.3137066458778872873379622, \n",
    "                  0.2223810344533744705443560, 0.1012285362903762591525314,\n",
    "                  0.3626837833783619829651504, 0.3137066458778872873379622, \n",
    "                  0.2223810344533744705443560, 0.1012285362903762591525314])\n",
    "\n",
    "  elif n == 10:\n",
    "    x = np.array([-0.1488743389816312108848260, -0.4333953941292471907992659, \n",
    "                  -0.6794095682990244062343274, -0.8650633666889845107320967, \n",
    "                  -0.9739065285171717200779640, 0.1488743389816312108848260, \n",
    "                  0.4333953941292471907992659, 0.6794095682990244062343274, \n",
    "                  0.8650633666889845107320967, 0.9739065285171717200779640])\n",
    "    w = np.array([0.2955242247147528701738930, 0.2692667193099963550912269, \n",
    "                  0.2190863625159820439955349, 0.1494513491505805931457763, \n",
    "                  0.0666713443086881375935688, 0.2955242247147528701738930, \n",
    "                  0.2692667193099963550912269, 0.2190863625159820439955349, \n",
    "                  0.1494513491505805931457763, 0.0666713443086881375935688])\n",
    "\n",
    "  return x, w"
   ]
  },
  {
   "cell_type": "markdown",
   "metadata": {
    "id": "jc51i78_RWLQ"
   },
   "source": [
    "----------------------------------------------------------"
   ]
  },
  {
   "cell_type": "markdown",
   "metadata": {
    "id": "csztCPgIQ7EL"
   },
   "source": [
    "### Implementação de $\\int_{-1}^1 f(x)dx$:\n",
    "\n"
   ]
  },
  {
   "cell_type": "code",
   "execution_count": 2,
   "metadata": {
    "id": "wSowRo6g6ekh"
   },
   "outputs": [],
   "source": [
    "import time\n",
    "\n",
    "def integral(f, n): \n",
    "# Entradas: função f(x) e número de nós n\n",
    "# Saída: resultado da integral de -1 a 1 de f(x)\n",
    "\n",
    "  inicio = time.time()\n",
    "  x, w = nos_pesos(n) # Recupera os valores fornecidos no arquivo .txt\n",
    "  sum = 0\n",
    "  \n",
    "  for i in range(n): \n",
    "  # Realiza a soma descrita no algoritmo deduzido (soma de w_j*f(x_j))\n",
    "    sum += w[i]*f(x[i])\n",
    "\n",
    "  print(\"Tempo:\", time.time()-inicio)\n",
    "\n",
    "  return sum # Retorna o valor final da soma, aproximadamente a integral definida\n"
   ]
  },
  {
   "cell_type": "markdown",
   "metadata": {
    "id": "P_QYGs5EAGbQ"
   },
   "source": [
    "### Teste: $\\int_{-1}^1{(e^{-x}+4x)dx}$\n",
    "\n",
    "Usando $n=6$: "
   ]
  },
  {
   "cell_type": "code",
   "execution_count": 3,
   "metadata": {
    "colab": {
     "base_uri": "https://localhost:8080/"
    },
    "id": "aBirOz0bAEV-",
    "outputId": "1ab9fd80-baf2-4ec0-8276-f19fd94c275e"
   },
   "outputs": [
    {
     "name": "stdout",
     "output_type": "stream",
     "text": [
      "Tempo: 0.0\n",
      "Resultado: 2.3504023872860342 \n",
      "Erro: 1.5685230891904212e-12\n"
     ]
    }
   ],
   "source": [
    "f = lambda x: np.exp(-x)+4*x\n",
    "calc = 2.350402387287602913764 # Resposta obtida utilizando calculadora\n",
    "result = integral(f, 6) # Resposta obtida a partir da função criada acima\n",
    "print('Resultado:', result, '\\nErro:', abs(calc-result))"
   ]
  },
  {
   "cell_type": "markdown",
   "metadata": {
    "id": "58TEYASpRSeV"
   },
   "source": [
    "---------------------------------------------------------------"
   ]
  },
  {
   "cell_type": "markdown",
   "metadata": {
    "id": "XqjU_M3CRO3Z"
   },
   "source": [
    "### Implementação de $\\int_a^b f(x)dx$:\n",
    "\n"
   ]
  },
  {
   "cell_type": "code",
   "execution_count": 4,
   "metadata": {
    "id": "icrUvHBz-flN"
   },
   "outputs": [],
   "source": [
    "def integral_a_to_b(f, a, b, n):\n",
    "# Entradas: função f(x), extremos a, b do intervalo de integração, número de nós n\n",
    "# Saída: resultado da integral de a até b de f(x)\n",
    "# Caso mais geral da função integral(f, n), aplica a fórmula de mudança de variável deduzida acima\n",
    "\n",
    "  inicio = time.time()\n",
    "  l = (b-a)/2 # Define-se dois parâmetros para a transformação linear: metade do tamanho do intervalo\n",
    "  m = (a+b)/2 # e o ponto médio, segundo as fórmulas deduzidas\n",
    "\n",
    "  y, w = nos_pesos(n) # Recupera os valores fornecidos no arquivo .txt\n",
    "\n",
    "  x = l*y + m # Aplica a transformação linear do intervalo [-1,1] para [a,b]\n",
    "  sum = 0\n",
    "   \n",
    "  for i in range(n): # Realiza a soma descrita no algoritmo deduzido (soma de w_j*f(x_j))\n",
    "    sum += w[i]*f(x[i])\n",
    "\n",
    "  sum = sum*l # Finaliza a aplicação da fórmula geral para [a,b] multiplicando por (b-a)/2\n",
    "\n",
    "  print(\"Tempo:\", time.time()-inicio)\n",
    "\n",
    "  return sum # Retorna o valor final da soma, aproximadamente a integral definida\n",
    "\n"
   ]
  },
  {
   "cell_type": "markdown",
   "metadata": {
    "id": "PJc6sHgZHll-"
   },
   "source": [
    "### Teste: $\\int_{-3}^7{(e^{-x}+4x)dx}$\n",
    "\n",
    "Usando $n=6$: "
   ]
  },
  {
   "cell_type": "code",
   "execution_count": 5,
   "metadata": {
    "colab": {
     "base_uri": "https://localhost:8080/"
    },
    "id": "RKrt6ZA_Hyvd",
    "outputId": "000204c5-2317-426b-ac17-c449a07f2dcb"
   },
   "outputs": [
    {
     "name": "stdout",
     "output_type": "stream",
     "text": [
      "Tempo: 0.0010447502136230469\n",
      "Resultado: 100.08423081938511 \n",
      "Erro: 0.00039422183699855395\n"
     ]
    }
   ],
   "source": [
    "f = lambda x: np.exp(-x)+4*x\n",
    "calc = 100.08462504122211322472 # Resposta obtida utilizando calculadora\n",
    "result = integral_a_to_b(f, -3, 7, 6) # Resposta obtida a partir da função criada acima\n",
    "print('Resultado:', result, '\\nErro:', abs(calc-result))"
   ]
  },
  {
   "cell_type": "markdown",
   "metadata": {
    "id": "VLMOZs3c3yJC"
   },
   "source": [
    "---------------------------------------------------------------------------"
   ]
  },
  {
   "cell_type": "markdown",
   "metadata": {
    "id": "yfYuxDjRXHtC"
   },
   "source": [
    "## **Integrais Duplas**\n",
    "\n",
    "Deseja-se calcular a integral\n",
    "\n",
    "$$\\int\\int_R f(x,y)dxdy$$\n",
    "\n",
    "para uma região $R$, da forma $\\{(x,y)\\,|\\,a\\leq x\\leq b,\\,c(x)\\leq y\\leq d(x)\\}$, ou $R = \\{(x,y)\\,|\\,c\\leq y\\leq d,\\,a(y)\\leq x\\leq b(y)\\}$. Pelo Teorema de Fubini, o resultado é o mesmo de resolver as integrais de forma iterada: primeiro a mais interna, até a mais externa.\n",
    "\n",
    "Aplicando a fórmula de integração de Gauss para ambas, encontramos:\n",
    "\n",
    "$$I = \\int_a^b\\int_{c(x)}^{d(x)} f(x,y)\\,dydx = \\sum_{i=1}^n u_iF(x_i),\\,F(x_i) = \\sum_{j=1}^n v_{ij}f(x_i,y_{ij})$$\n",
    "\n",
    "onde $x_i$ e $u_i$ são os nós e pesos no intervalo $[a, b]$, e $y_{ij}$ e $v_{ij}$ são nós e pesos no intervalo $[c(x_i), d(x_i)]$."
   ]
  },
  {
   "cell_type": "markdown",
   "metadata": {
    "id": "HUgJ-3-DLT7R"
   },
   "source": [
    "Obs.: Na implementação do algoritmo a seguir, assumimos que $x$ varia em extremos fixos (constantes) e $y$ varia em função de $x$. Se necessário, basta trocar **todos** os $x$ por $y$ e vice-versa na integral."
   ]
  },
  {
   "cell_type": "code",
   "execution_count": 6,
   "metadata": {
    "id": "BLJyiZDJCrnF"
   },
   "outputs": [],
   "source": [
    "def integral_dupla(f, a, b, c, d, n):\n",
    "# Entradas: função f(x,y), extremos a, b do intervalo de extremos fixos, c e d extremos variáveis (funções de uma variável), número de nós n\n",
    "# Saída: resultado da integral dupla da região a <= x (ou y) <= b, c <= y (ou x) <= d \n",
    "# Utiliza a mesma estrutura do algoritmo de integral definida simples, com um loop interno ao já presente anteriormente.\n",
    "\n",
    "  inicio = time.time()\n",
    "\n",
    "  lx = (b-a)/2 # Define o tamanho de metade do intervalo fixo para transformação linear\n",
    "  mx = (a+b)/2 # Define o ponto médio do intervalo fixo para transformação linear\n",
    "\n",
    "  # Recupera os valores fornecidos no arquivo .txt. \n",
    "  #Note que pode-se lê-los apenas uma vez, alterando as transformações para cada y_j\n",
    "  r, w = nos_pesos(n)\n",
    "  x = lx*r + mx # Aplica a transformação linear à variável de extremos fixos\n",
    "\n",
    "  sum = 0\n",
    "\n",
    "  for i in range(n): # Para cada nó da variável de extremos fixos, aplica o algoritmo integral_a_to_b descrito acima\n",
    "    ly = (d(x[i])-c(x[i]))/2 # Calcula metade do tamanho do intervalo\n",
    "    my = (c(x[i])+d(x[i]))/2 # Calcula o ponto médio do intervalo\n",
    "\n",
    "    y = ly*r + my # Aplica a transformação linear [-1,1]->[c,d]\n",
    "    sum_y = 0\n",
    "    \n",
    "    for j in range(n):\n",
    "      sum_y += w[j]*f(x[i], y[j]) # Realiza a soma descrita no algoritmo deduzido (soma de w_j*f(x_i,y_j))\n",
    "\n",
    "    sum += w[i]*sum_y*ly # Finaliza a aplicação da fórmula geral para [c,d] multiplicando por (d-c)/2\n",
    "\n",
    "  sum = sum*lx # Finaliza a aplicação da fórmula geral para [a,b] multiplicando por (b-a)/2\n",
    "\n",
    "  print(\"n = \", n, \"\\nTempo: \", time.time()-inicio, \"\\nResultado da integral: \", sum)\n",
    "\n",
    "  return sum # Retorna o valor final da soma, aproximadamente a integral dupla definida"
   ]
  },
  {
   "cell_type": "markdown",
   "metadata": {
    "id": "lGWkgs2FMzyb"
   },
   "source": [
    "### Teste: $\\int_1^3\\int_{0}^{2x} \\dfrac{4y}{x^3+2}\\,dydx$\n",
    "\n",
    "Usando $n=6$:"
   ]
  },
  {
   "cell_type": "code",
   "execution_count": 7,
   "metadata": {
    "colab": {
     "base_uri": "https://localhost:8080/"
    },
    "id": "YJE1XctWS4PH",
    "outputId": "d9d2cddf-2108-4479-fd70-32a2732642e5"
   },
   "outputs": [
    {
     "name": "stdout",
     "output_type": "stream",
     "text": [
      "n =  6 \n",
      "Tempo:  0.0009984970092773438 \n",
      "Resultado da integral:  6.0498255732580875\n",
      "\n",
      "Erro: 2.7964091158239057e-06\n"
     ]
    }
   ],
   "source": [
    "f = lambda x, y: (4*y)/(x**3+2)\n",
    "c = lambda x : 0\n",
    "d = lambda x : 2*x\n",
    "\n",
    "calc = 6.049822776848971562101 # Resposta obtida utilizando calculadora\n",
    "result = integral_dupla(f, 1, 3, c, d, 6) # Resposta obtida a partir da função criada acima\n",
    "print('\\nErro:', abs(calc-result))"
   ]
  },
  {
   "cell_type": "markdown",
   "metadata": {
    "id": "wg7qN8VoPCpu"
   },
   "source": [
    "-----------------------------------------------------------------------"
   ]
  },
  {
   "cell_type": "markdown",
   "metadata": {
    "id": "-vHV2hS9beID"
   },
   "source": [
    "## **Tarefa - Cálculo de Integrais Duplas em Regiões do Plano**\n",
    "\n",
    "Serão aplicadas as fórmulas deduzidas acima com $n$ nós e pesos previamente fornecidos para realizar as integrações no intervalo $[-1,1]$, sendo que o programa deverá fazer os ajustes necessários para integração em outros intervalos. Devem ser feitos testes com $n = 6$, $8$ e $10$."
   ]
  },
  {
   "cell_type": "markdown",
   "metadata": {
    "id": "SYrrqqxpeCxg"
   },
   "source": [
    "### **Exemplo 1**\n",
    "\n",
    "Calcule os volumes do cubo cujas arestas tem comprimento $1$ e do tetraedro com vértices $(0, 0, 0)$, $(1, 0, 0)$, $(0, 1, 0)$ e $(0, 0, 1)$. Você deve obter resultados exatos, exceto por erros de\n",
    "arredondamento (por que?)."
   ]
  },
  {
   "cell_type": "markdown",
   "metadata": {
    "id": "HTkBpyPYNS-_"
   },
   "source": [
    "Convém discutir o porquê de a solução ser exata para a função $1$, que descreve o volume do cubo. Para as quantidades de $n$ consideradas, o polinômio constante, de grau zero, está sempre contido no espaço gerado pelos polinômios de grau $2n-1$. Dessa forma, consegue-se um resultado exato. Similarmente, para o caso do tetraedro, a função integrada é $f(x,y) =1-x-y$, que é de grau $1$ tanto em $x$ quanto em $y$. Como a integração é feita considerando uma variável de cada vez (pelo teorema de Fubini), então a soma encontrada também deve ser exata.\n",
    "\n",
    "Há uma ressalva para $n = 10$, em que há um erro de $10^{-16}$. No entanto, isso só ocorre devido a erros de arredondamento de aritmética de ponto flutuante."
   ]
  },
  {
   "cell_type": "markdown",
   "metadata": {
    "id": "YNMP1-E_ey2-"
   },
   "source": [
    "![image.png](data:image/png;base64,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)"
   ]
  },
  {
   "cell_type": "markdown",
   "metadata": {
    "id": "Oa_atWrJe2uX"
   },
   "source": [
    "Para o cubo, seu volume é dado pela integral dupla da função constante $1$, na região $R = \\{(x,y)\\in [0,1]\\times [0,1]\\}$, ou seja,\n",
    "\n",
    "$$V = \\int_0^1\\int_0^1 1\\,dydx = 1\\cdot 1\\cdot 1 = 1$$\n"
   ]
  },
  {
   "cell_type": "markdown",
   "metadata": {
    "id": "WE_yICXj0HXk"
   },
   "source": [
    "Podemos realizar a implementação em Python:"
   ]
  },
  {
   "cell_type": "code",
   "execution_count": 8,
   "metadata": {
    "colab": {
     "base_uri": "https://localhost:8080/"
    },
    "id": "GSnhRHOVaYsw",
    "outputId": "ff38d646-34ff-42d5-e924-a92314cfbcee"
   },
   "outputs": [
    {
     "name": "stdout",
     "output_type": "stream",
     "text": [
      "n =  6 \n",
      "Tempo:  0.0 \n",
      "Resultado da integral:  1.0\n",
      "Erro: 0.0 \n",
      "\n",
      "n =  8 \n",
      "Tempo:  0.0 \n",
      "Resultado da integral:  1.0\n",
      "Erro: 0.0 \n",
      "\n",
      "n =  10 \n",
      "Tempo:  0.0 \n",
      "Resultado da integral:  0.9999999999999998\n",
      "Erro: 2.220446049250313e-16 \n",
      "\n"
     ]
    }
   ],
   "source": [
    "# Para o volume do cubo, definimos a função constante 1:\n",
    "f = lambda x, y : 1\n",
    "\n",
    "# Definimos os extremos fixos:\n",
    "a = 0\n",
    "b = 1\n",
    "\n",
    "# O algoritmo precisa de dois extremos que variam com x ou y, então definimos também:\n",
    "c = lambda x : 0\n",
    "d = lambda x : 1\n",
    "\n",
    "n = [6, 8, 10]\n",
    "for i in n:\n",
    "  r = integral_dupla(f, a, b, c, d, i)\n",
    "  print('Erro:', abs(r-1), '\\n')"
   ]
  },
  {
   "cell_type": "markdown",
   "metadata": {
    "id": "pxETK9YvgIL-"
   },
   "source": [
    "![image.png](data:image/png;base64,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)"
   ]
  },
  {
   "cell_type": "markdown",
   "metadata": {
    "id": "6dKd5jvUgKlV"
   },
   "source": [
    "Para o tetraedro, a equação do plano da face inclinada é dada por $\\pi : ax + by + cz+d = 0$\n",
    "\n",
    "$$\\begin{cases}\n",
    "a + d = 0\\\\\n",
    "b + d = 0\\\\\n",
    "c + d = 0\\\\\n",
    "\\end{cases}\\Rightarrow a = b = c = -d \\Rightarrow \\pi: x+y+z-1=0$$\n",
    "\n",
    "Logo, devemos calcular a integral dupla de $z = f(x,y) = 1-x-y$ na região $R = \\{(x,y)\\,|\\,0\\leq x\\leq 1,\\, 0\\leq y\\leq -x+1\\}$:\n",
    "\n",
    "$$V = \\int_0^1\\int_0^{-x+1} 1-x-y\\,dydx = \\int_0^1 (1-x)(-x+1)-\\frac{(-x+1)^2}{2}dx = \\int_0^1 \\frac{(x-1)^2}{2}dx = \\frac{(x-1)^3}{6}\\Bigr|\\substack{1\\\\\\\\\\\\\\\\\\\\\\\\0} = \\frac{1}{6}$$\n",
    "\n",
    "Que realmente é o volume do tetraedro (base $\\frac{1\\cdot 1}{2}$, altura $1\\Rightarrow V = \\frac{1}{3} \\cdot \\frac{1}{2} \\cdot 1 = \\frac{1}{6}$)."
   ]
  },
  {
   "cell_type": "markdown",
   "metadata": {
    "id": "xzoRpIJG0Daf"
   },
   "source": [
    "Aplicando em Python:"
   ]
  },
  {
   "cell_type": "code",
   "execution_count": 9,
   "metadata": {
    "colab": {
     "base_uri": "https://localhost:8080/"
    },
    "id": "GgE7XulobWfh",
    "outputId": "eff9450c-f200-41a3-c87d-bb8c45f7c27a"
   },
   "outputs": [
    {
     "name": "stdout",
     "output_type": "stream",
     "text": [
      "n =  6 \n",
      "Tempo:  0.0 \n",
      "Resultado da integral:  0.16666666666666663\n",
      "Erro: 2.7755575615628914e-17 \n",
      "\n",
      "n =  8 \n",
      "Tempo:  0.0 \n",
      "Resultado da integral:  0.16666666666666669\n",
      "Erro: 2.7755575615628914e-17 \n",
      "\n",
      "n =  10 \n",
      "Tempo:  0.0009961128234863281 \n",
      "Resultado da integral:  0.16666666666666669\n",
      "Erro: 2.7755575615628914e-17 \n",
      "\n"
     ]
    }
   ],
   "source": [
    "# Para o volume da pirâmide, definimos a função f(x,y) = 1 - x - y (deduzido acima):\n",
    "f = lambda x, y : 1 - x - y\n",
    "\n",
    "# Definimos os extremos fixos:\n",
    "a = 0\n",
    "b = 1\n",
    "\n",
    "# O algoritmo precisa de dois extremos que variam com x ou y, então definimos também:\n",
    "c = lambda x : 0\n",
    "d = lambda x : -x + 1\n",
    "\n",
    "n = [6, 8, 10]\n",
    "for i in n:\n",
    "  r = integral_dupla(f, a, b, c, d, i)\n",
    "  print('Erro:', abs(r-(1/6)), '\\n')"
   ]
  },
  {
   "cell_type": "markdown",
   "metadata": {
    "id": "sZgJDJkzl_Cg"
   },
   "source": [
    "------------------------------------------------------------------------------"
   ]
  },
  {
   "cell_type": "markdown",
   "metadata": {
    "id": "y2CSOGWzkALk"
   },
   "source": [
    "### **Exemplo 2**\n",
    "\n",
    "A área A da região no primeiro quadrante limitada pelos eixos e pela curva $y = 1 − x^2$ pode ser obtida por\n",
    "\n",
    "$$A = \\int_0^1\\int_0^{1-x^2}1\\,dydx = \\int_0^1\\int_0^{\\sqrt{1-y}}1\\,dxdy=\\frac{2}{3}$$\n",
    "\n",
    "Calcule numericamente as duas integrais duplas acima e compare os resultados.\n",
    "\n"
   ]
  },
  {
   "cell_type": "code",
   "execution_count": 10,
   "metadata": {
    "id": "lbU8nQCqb3H5"
   },
   "outputs": [],
   "source": [
    "# A função a ser integrada é a mesma para as duas ordens:\n",
    "f = lambda x, y : 1\n",
    "\n",
    "# Definimos os extremos fixos:\n",
    "a = 0\n",
    "b = 1\n",
    "\n",
    "# Extremos variáveis da integral da esquerda:\n",
    "c1 = lambda x : 0\n",
    "d1 = lambda x : 1-x*x\n",
    "\n",
    "# Extremos variáveis da integral da direita:\n",
    "c2 = lambda x : 0\n",
    "d2 = lambda y : np.sqrt(1-y)"
   ]
  },
  {
   "cell_type": "markdown",
   "metadata": {
    "id": "29JYylNacfrn"
   },
   "source": [
    "Para a integral da esquerda:"
   ]
  },
  {
   "cell_type": "code",
   "execution_count": 11,
   "metadata": {
    "colab": {
     "base_uri": "https://localhost:8080/"
    },
    "id": "zkEaRWxkchwp",
    "outputId": "cdee586c-b444-4e10-a175-1d2d20178403"
   },
   "outputs": [
    {
     "name": "stdout",
     "output_type": "stream",
     "text": [
      "n =  6 \n",
      "Tempo:  0.0009970664978027344 \n",
      "Resultado da integral:  0.6666666666666667\n",
      "Erro: 1.1102230246251565e-16 \n",
      "\n",
      "n =  8 \n",
      "Tempo:  0.0009982585906982422 \n",
      "Resultado da integral:  0.6666666666666666\n",
      "Erro: 0.0 \n",
      "\n",
      "n =  10 \n",
      "Tempo:  0.0010042190551757812 \n",
      "Resultado da integral:  0.6666666666666665\n",
      "Erro: 1.1102230246251565e-16 \n",
      "\n"
     ]
    }
   ],
   "source": [
    "n = [6, 8, 10]\n",
    "for i in n:\n",
    "  r = integral_dupla(f, a, b, c1, d1, i)\n",
    "  print('Erro:', abs(r-(2/3)), '\\n')"
   ]
  },
  {
   "cell_type": "markdown",
   "metadata": {
    "id": "V-RpkDG6cmEa"
   },
   "source": [
    "E para a da direita:"
   ]
  },
  {
   "cell_type": "code",
   "execution_count": 12,
   "metadata": {
    "colab": {
     "base_uri": "https://localhost:8080/"
    },
    "id": "fPCl7ThKcosN",
    "outputId": "0fede213-535e-41bc-a079-120839fa79b2"
   },
   "outputs": [
    {
     "name": "stdout",
     "output_type": "stream",
     "text": [
      "n =  6 \n",
      "Tempo:  0.0 \n",
      "Resultado da integral:  0.6670464379156135\n",
      "Erro: 0.00037977124894683634 \n",
      "\n",
      "n =  8 \n",
      "Tempo:  0.0009975433349609375 \n",
      "Resultado da integral:  0.6668355801001765\n",
      "Erro: 0.0001689134335098874 \n",
      "\n",
      "n =  10 \n",
      "Tempo:  0.0009965896606445312 \n",
      "Resultado da integral:  0.6667560429365086\n",
      "Erro: 8.937626984195646e-05 \n",
      "\n"
     ]
    }
   ],
   "source": [
    "for i in n:\n",
    "  r = integral_dupla(f, a, b, c2, d2, i)\n",
    "  print('Erro:', abs(r-(2/3)), '\\n') "
   ]
  },
  {
   "cell_type": "markdown",
   "metadata": {
    "id": "KHkBAhxqcuBT"
   },
   "source": [
    "Claramente, há uma grande diferença de precisão entre as duas. Isso ocorre devido à necessidade de extrair a raiz quadrada de números com várias casas decimais. Mesmo com precisão dupla, há uma perda grande por causa das aproximações de aritmética de ponto flutuante."
   ]
  },
  {
   "cell_type": "markdown",
   "metadata": {
    "id": "0I6RFqIpl8Sj"
   },
   "source": [
    "------------------------------------------------------------------------------"
   ]
  },
  {
   "cell_type": "markdown",
   "metadata": {
    "id": "rChK9TDPkwwU"
   },
   "source": [
    "### **Exemplo 3**\n",
    "\n",
    "Considere a superfície descrita por $z = e^{y/x}$, $0.1\\leq x\\leq 0.5$, $x^3\\leq y\\leq x^2$. Calcule a sua área e o volume da região abaixo dela.\n",
    "\n",
    "A área de uma superfície do tipo $z = f(x,y)$, $(x,y)\\in R$, é dada por:\n",
    "\n",
    "$$A = \\int\\int_R \\sqrt{f_x(x,y)^2+f_y(x,y)^2+1}\\,dxdy$$\n",
    "\n",
    "Como $f(x,y) = e^{y/x}$, calculamos:\n",
    "- $f_x(x,y) = -\\dfrac{y}{x^2}e^{y/x}$\n",
    "- $f_y(x,y) = \\dfrac{1}{x}e^{y/x}$\n",
    "\n",
    "Portanto, temos:\n",
    "\n",
    "$$A = \\int_{0.1}^{0.5}\\int_{x^3}^{x^2} \\sqrt{\\left(\\frac{y^2}{x^4}+\\frac{1}{x^2}\\right) e^{2y/x}+1}\\,dydx$$\n",
    "\n",
    "e o volume é dado por:\n",
    "\n",
    "$$V = \\int_{0.1}^{0.5}\\int_{x^3}^{x^2} e^{y/x}\\,dydx$$"
   ]
  },
  {
   "cell_type": "markdown",
   "metadata": {
    "id": "MhwfabRXfiKT"
   },
   "source": [
    "### Cálculo da área:"
   ]
  },
  {
   "cell_type": "code",
   "execution_count": 13,
   "metadata": {
    "id": "0uke0GSgfeRX"
   },
   "outputs": [],
   "source": [
    "# A função a ser integrada é a mesma para as duas ordens:\n",
    "f = lambda x, y : (((y**2/x**4)+(1/x**2))*np.exp((2*y)/(x))+1)**0.5\n",
    "\n",
    "# Definimos os extremos fixos:\n",
    "a = 0.1\n",
    "b = 0.5\n",
    "\n",
    "# Extremos variáveis da integral da esquerda:\n",
    "c = lambda x : x**3\n",
    "d = lambda x : x**2"
   ]
  },
  {
   "cell_type": "code",
   "execution_count": 14,
   "metadata": {
    "colab": {
     "base_uri": "https://localhost:8080/"
    },
    "id": "GTXFdFBifrb4",
    "outputId": "ddef8405-bfc9-42f5-ac62-f32c46ce9b53"
   },
   "outputs": [
    {
     "name": "stdout",
     "output_type": "stream",
     "text": [
      "n =  6 \n",
      "Tempo:  0.0 \n",
      "Resultado da integral:  0.1054978824004979\n",
      "Erro: 1.1759950209466741e-07 \n",
      "\n",
      "n =  8 \n",
      "Tempo:  0.0 \n",
      "Resultado da integral:  0.10549788240051997\n",
      "Erro: 1.1759948002898479e-07 \n",
      "\n",
      "n =  10 \n",
      "Tempo:  0.0019941329956054688 \n",
      "Resultado da integral:  0.10549788240051994\n",
      "Erro: 1.1759948005674037e-07 \n",
      "\n"
     ]
    }
   ],
   "source": [
    "# O resultado utilizado para calcular o erro foi obtido por meio de calculadora\n",
    "for i in n:\n",
    "  r = integral_dupla(f, a, b, c, d, i)\n",
    "  print('Erro:', abs(r-0.105498), '\\n')"
   ]
  },
  {
   "cell_type": "markdown",
   "metadata": {
    "id": "0L1bEAsOfksS"
   },
   "source": [
    "### Cálculo do volume:"
   ]
  },
  {
   "cell_type": "code",
   "execution_count": 15,
   "metadata": {
    "id": "qH1NzM7Mfn4i"
   },
   "outputs": [],
   "source": [
    "# A função a ser integrada é a mesma para as duas ordens:\n",
    "f = lambda x, y : np.exp(y/x)\n",
    "\n",
    "# Definimos os extremos fixos:\n",
    "a = 0.1\n",
    "b = 0.5\n",
    "\n",
    "# Extremos variáveis da integral da esquerda:\n",
    "c = lambda x : x**3\n",
    "d = lambda x : x**2"
   ]
  },
  {
   "cell_type": "code",
   "execution_count": 16,
   "metadata": {
    "colab": {
     "base_uri": "https://localhost:8080/"
    },
    "id": "tHWPDvTAiwIY",
    "outputId": "2d2fa095-9f75-495d-fc78-8f9f99300d04"
   },
   "outputs": [
    {
     "name": "stdout",
     "output_type": "stream",
     "text": [
      "n =  6 \n",
      "Tempo:  0.0009980201721191406 \n",
      "Resultado da integral:  0.03330556611623719\n",
      "Erro: 3.3883762809439055e-08 \n",
      "\n",
      "n =  8 \n",
      "Tempo:  0.0 \n",
      "Resultado da integral:  0.03330556611623208\n",
      "Erro: 3.388376791646497e-08 \n",
      "\n",
      "n =  10 \n",
      "Tempo:  0.000997304916381836 \n",
      "Resultado da integral:  0.03330556611623208\n",
      "Erro: 3.388376791646497e-08 \n",
      "\n"
     ]
    }
   ],
   "source": [
    "# O resultado utilizado para calcular o erro foi obtido por meio de calculadora\n",
    "for i in n:\n",
    "  r = integral_dupla(f, a, b, c, d, i)\n",
    "  print('Erro:', abs(r-0.0333056), '\\n')"
   ]
  },
  {
   "cell_type": "markdown",
   "metadata": {
    "id": "CMuoTSOKmM3y"
   },
   "source": [
    "------------------------------------------------------------------------------"
   ]
  },
  {
   "cell_type": "markdown",
   "metadata": {
    "id": "11956i4PoU0K"
   },
   "source": [
    "### **Exemplo 4**\n",
    "\n",
    "Considere uma região fechada $R$ do plano $xy$ e seja $\\gamma$ uma reta no mesmo plano que não intercepta o interior de $R$. O volume $V$ do sólido de revolução obtido pela rotação da região $R$ em torno de $\\gamma$ é igual a:\n",
    "\n",
    "$$V = 2\\pi\\int\\int_R d_{\\gamma}(x,y)\\,dxdy$$\n",
    "\n",
    "onde $d_{\\gamma}$ é a distância do ponto $(x,y)$ à reta $\\gamma$. Use esta expressão para calcular o volume da calota esférica de altura $1/4$ da esfera de raio $1$, e o volume do sólido de revolução obtido da rotação da região, em torno do eixo $y$, delimitada por $x = 0$, $x = e^{-y^2}$, $y = -1$ e $y = 1$."
   ]
  },
  {
   "cell_type": "markdown",
   "metadata": {
    "id": "3nj0VInSm2BY"
   },
   "source": [
    "Para a calota esférica, rotaciona-se uma parte do primeiro quadrante da circunferência unitária ao redor do eixo $x$, como mostra a figura a seguir. Note que, nesse caso, a distância é simplesmente a coordenada $y$, ou seja, $d_{\\gamma}(x, y) = y$."
   ]
  },
  {
   "cell_type": "markdown",
   "metadata": {
    "id": "cj0MIjvj5yxF"
   },
   "source": [
    "![image.png](data:image/png;base64,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)"
   ]
  },
  {
   "cell_type": "markdown",
   "metadata": {
    "id": "oyeDRXIy6CCt"
   },
   "source": [
    "Assim, o volume será dado por:\n",
    "\n",
    "$$V = 2\\pi\\int_{3/4}^1\\int_0^{\\sqrt{1-x^2}}y\\,dydx = \\frac{11\\pi}{192}\\approx 0,17998$$\n",
    "\n",
    "Para aplicar o código apresentado, declaramos a função e os extremos:"
   ]
  },
  {
   "cell_type": "code",
   "execution_count": 17,
   "metadata": {
    "id": "hDyYGlUi62Ng"
   },
   "outputs": [],
   "source": [
    "# A função a ser integrada é a mesma para as duas ordens:\n",
    "f = lambda x, y : y\n",
    "\n",
    "# Definimos os extremos fixos:\n",
    "a = 3/4\n",
    "b = 1\n",
    "\n",
    "# Extremos variáveis da integral da esquerda:\n",
    "c = lambda x : 0\n",
    "d = lambda x : (1-x*x)**0.5"
   ]
  },
  {
   "cell_type": "code",
   "execution_count": 18,
   "metadata": {
    "colab": {
     "base_uri": "https://localhost:8080/"
    },
    "id": "DMnjiZvE7dbh",
    "outputId": "0d33d27c-5718-4ac9-e511-ecb97d8b3bdf"
   },
   "outputs": [
    {
     "name": "stdout",
     "output_type": "stream",
     "text": [
      "n =  6 \n",
      "Tempo:  0.0009987354278564453 \n",
      "Resultado da integral:  0.028645833333333325\n",
      "V = 0.1799870791119152 \n",
      "Erro: 2.7755575615628914e-17 \n",
      "\n",
      "n =  8 \n",
      "Tempo:  0.0009980201721191406 \n",
      "Resultado da integral:  0.028645833333333332\n",
      "V = 0.17998707911191522 \n",
      "Erro: 0.0 \n",
      "\n",
      "n =  10 \n",
      "Tempo:  0.0009975433349609375 \n",
      "Resultado da integral:  0.028645833333333336\n",
      "V = 0.17998707911191525 \n",
      "Erro: 2.7755575615628914e-17 \n",
      "\n"
     ]
    }
   ],
   "source": [
    "n = [6, 8, 10]\n",
    "for i in n:\n",
    "  V = 2*np.pi*integral_dupla(f, a, b, c, d, i) # Calcula a integral e multiplica por 2pi, como apresentado na fórmula acima.\n",
    "  print(\"V =\", V, '\\nErro:', abs(V-(11*np.pi/192)), '\\n')"
   ]
  },
  {
   "cell_type": "markdown",
   "metadata": {
    "id": "LrDM40tkt9vN"
   },
   "source": [
    "Note que o \"Resultado da integral\" não inclui o multiplicador $2\\pi$. Por isso a diferença de valores entre ele e o resultado final do volume V."
   ]
  },
  {
   "cell_type": "markdown",
   "metadata": {
    "id": "-kBQdtH68PLW"
   },
   "source": [
    "Para o sólido de revolução obtido da rotação da região, em torno do eixo $y$, delimitada por $x = 0$, $x = e^{-y^2}$, $y = -1$ e $y = 1$, temos:"
   ]
  },
  {
   "cell_type": "markdown",
   "metadata": {
    "id": "kgazsbLj8ZxA"
   },
   "source": [
    "![image.png](data:image/png;base64,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)"
   ]
  },
  {
   "cell_type": "markdown",
   "metadata": {
    "id": "4VGkSn9w8hJ3"
   },
   "source": [
    "Note que agora, a distância é dada pela própria coordenada $x$. A integral pode ser escrita como:\n",
    "\n",
    "$$V = 2\\pi\\int_{-1}^1\\int_0^{e^{-y^2}}x\\,dxdy \\approx 3,75825$$\n",
    "\n",
    "Para aplicar o código apresentado, a integral deve ser primeiro avaliada em $y$, não em $x$. Logo, podemos trocar $x$ por $y$ e vice-versa, e avaliar a seguinte integral:\n",
    "\n",
    "$$V = 2\\pi\\int_{-1}^1\\int_0^{e^{-x^2}}y\\,dydx \\approx 3,75825$$"
   ]
  },
  {
   "cell_type": "code",
   "execution_count": 19,
   "metadata": {
    "id": "UVOdY6at9pfN"
   },
   "outputs": [],
   "source": [
    "# A função a ser integrada é a mesma para as duas ordens:\n",
    "f = lambda x, y : y\n",
    "\n",
    "# Definimos os extremos fixos:\n",
    "a = -1\n",
    "b = 1\n",
    "\n",
    "# Extremos variáveis da integral da esquerda:\n",
    "c = lambda x : 0\n",
    "d = lambda x : np.exp(-x*x)"
   ]
  },
  {
   "cell_type": "code",
   "execution_count": 20,
   "metadata": {
    "colab": {
     "base_uri": "https://localhost:8080/"
    },
    "id": "Sz3I6zb79yAn",
    "outputId": "7a8e6acf-bb06-4173-a7d2-081910c94e87"
   },
   "outputs": [
    {
     "name": "stdout",
     "output_type": "stream",
     "text": [
      "n =  6 \n",
      "Tempo:  0.000990152359008789 \n",
      "Resultado da integral:  0.5981305419406268\n",
      "V = 3.7581650328967093 \n",
      "Erro: 8.460133512544488e-05 \n",
      "\n",
      "n =  8 \n",
      "Tempo:  0.0009968280792236328 \n",
      "Resultado da integral:  0.5981439474887065\n",
      "V = 3.7582492624394384 \n",
      "Erro: 3.717923964252634e-07 \n",
      "\n",
      "n =  10 \n",
      "Tempo:  0.0019910335540771484 \n",
      "Resultado da integral:  0.5981440064985766\n",
      "V = 3.7582496332093873 \n",
      "Erro: 1.0224474600306621e-09 \n",
      "\n"
     ]
    }
   ],
   "source": [
    "n = [6, 8, 10]\n",
    "for i in n:\n",
    "  V = integral_dupla(f, a, b, c, d, i)*2*np.pi # Calcula a integral e multiplica por 2pi, como apresentado na fórmula acima.\n",
    "  print(\"V =\", V, '\\nErro:', abs(V-3.7582496342318346306), '\\n')"
   ]
  },
  {
   "cell_type": "markdown",
   "metadata": {
    "id": "OQrkw5Lt1Z_e"
   },
   "source": [
    "Note que o \"Resultado da integral\" não inclui o multiplicador $2\\pi$. Por isso a diferença de valores entre ele e o resultado final do volume V."
   ]
  },
  {
   "cell_type": "markdown",
   "metadata": {
    "id": "5KHdGS4j267L"
   },
   "source": [
    "--------------------------------------------------------------------------"
   ]
  },
  {
   "cell_type": "markdown",
   "metadata": {
    "id": "iTzOG2mX-mIf"
   },
   "source": [
    "## **Referências**\n",
    "\n",
    "- Equipe de MAP3121. Fórmulas de Integração Numérica de Gauss. <br>\n",
    "\n",
    "- Numerical integration: Gaussian quadrature rules. Disponível em:\n",
    "<https://www.dam.brown.edu/people/alcyew/handouts/GLquad.pdf>. Acesso em 26/05/2022.\n",
    "\n",
    "- Keesling, James. Gaussian Quadrature. Disponível em: <https://people.clas.ufl.edu/kees/files/GaussianQuadrature.pdf>. Acesso em 26/05/2022.\n",
    "\n",
    "- Aboumrad, Willie. Notes on Gaussian quadrature. Disponível em: <https://web.stanford.edu/class/math114/lecture_notes/gauss_quadrature.pdf>. Acesso em 27/05/2022.\n",
    "\n",
    "- Dow, J. O. (1999). The Development of Strain-Gradient-Based Finite Elements. <i>A Unified Approach to the Finite Element Method and Error Analysis Procedures</i>, 169–210. https://doi.org/10.1016/B978-012221440-0/50039-X</div>\n",
    "\n",
    "\n"
   ]
  }
 ],
 "metadata": {
  "colab": {
   "collapsed_sections": [
    "rChK9TDPkwwU",
    "iTzOG2mX-mIf"
   ],
   "name": "ep2_FINAL.ipynb",
   "provenance": []
  },
  "interpreter": {
   "hash": "1f0c4aba431e30a22bb8bc06580edfe8dbd3576238def4d3b6ab444b2b866a93"
  },
  "kernelspec": {
   "display_name": "Python 3 (ipykernel)",
   "language": "python",
   "name": "python3"
  },
  "language_info": {
   "codemirror_mode": {
    "name": "ipython",
    "version": 3
   },
   "file_extension": ".py",
   "mimetype": "text/x-python",
   "name": "python",
   "nbconvert_exporter": "python",
   "pygments_lexer": "ipython3",
   "version": "3.9.7"
  }
 },
 "nbformat": 4,
 "nbformat_minor": 1
}
